{
 "cells": [
  {
   "cell_type": "code",
   "execution_count": 688,
   "id": "7223ac18",
   "metadata": {},
   "outputs": [],
   "source": [
    "%matplotlib inline\n",
    "import numpy as np\n",
    "import matplotlib.pyplot as plt\n",
    "import scipy.stats as st\n",
    "import pandas as pd\n",
    "import seaborn as sns\n",
    "import statsmodels.api as sm\n",
    "import datetime as dt\n",
    "pd.set_option('display.width', 500)\n",
    "pd.set_option('display.max_columns', 100)"
   ]
  },
  {
   "cell_type": "markdown",
   "id": "9f910705",
   "metadata": {},
   "source": [
    "# Broadband speeds file reading"
   ]
  },
  {
   "cell_type": "code",
   "execution_count": 689,
   "id": "3593cf64",
   "metadata": {},
   "outputs": [
    {
     "data": {
      "text/html": [
       "<div>\n",
       "<style scoped>\n",
       "    .dataframe tbody tr th:only-of-type {\n",
       "        vertical-align: middle;\n",
       "    }\n",
       "\n",
       "    .dataframe tbody tr th {\n",
       "        vertical-align: top;\n",
       "    }\n",
       "\n",
       "    .dataframe thead th {\n",
       "        text-align: right;\n",
       "    }\n",
       "</style>\n",
       "<table border=\"1\" class=\"dataframe\">\n",
       "  <thead>\n",
       "    <tr style=\"text-align: right;\">\n",
       "      <th></th>\n",
       "      <th>Country</th>\n",
       "      <th>Broadband Speed Rank</th>\n",
       "      <th>Broadband Mbps</th>\n",
       "      <th>Mobile Speed Rank</th>\n",
       "      <th>Mobile Mbps</th>\n",
       "      <th>As of</th>\n",
       "    </tr>\n",
       "  </thead>\n",
       "  <tbody>\n",
       "    <tr>\n",
       "      <th>0</th>\n",
       "      <td>Monaco</td>\n",
       "      <td>1.0</td>\n",
       "      <td>192.68</td>\n",
       "      <td>NaN</td>\n",
       "      <td>NaN</td>\n",
       "      <td>January 2022</td>\n",
       "    </tr>\n",
       "    <tr>\n",
       "      <th>1</th>\n",
       "      <td>Singapore</td>\n",
       "      <td>2.0</td>\n",
       "      <td>192.01</td>\n",
       "      <td>19.0</td>\n",
       "      <td>64.92</td>\n",
       "      <td>January 2022</td>\n",
       "    </tr>\n",
       "    <tr>\n",
       "      <th>2</th>\n",
       "      <td>Chile</td>\n",
       "      <td>3.0</td>\n",
       "      <td>189.36</td>\n",
       "      <td>109.0</td>\n",
       "      <td>15.50</td>\n",
       "      <td>January 2022</td>\n",
       "    </tr>\n",
       "    <tr>\n",
       "      <th>3</th>\n",
       "      <td>Thailand</td>\n",
       "      <td>4.0</td>\n",
       "      <td>184.03</td>\n",
       "      <td>56.0</td>\n",
       "      <td>32.38</td>\n",
       "      <td>January 2022</td>\n",
       "    </tr>\n",
       "    <tr>\n",
       "      <th>4</th>\n",
       "      <td>Hong Kong (SAR)</td>\n",
       "      <td>5.0</td>\n",
       "      <td>173.42</td>\n",
       "      <td>38.0</td>\n",
       "      <td>45.86</td>\n",
       "      <td>January 2022</td>\n",
       "    </tr>\n",
       "  </tbody>\n",
       "</table>\n",
       "</div>"
      ],
      "text/plain": [
       "           Country  Broadband Speed Rank  Broadband Mbps  Mobile Speed Rank  Mobile Mbps         As of\n",
       "0           Monaco                   1.0          192.68                NaN          NaN  January 2022\n",
       "1        Singapore                   2.0          192.01               19.0        64.92  January 2022\n",
       "2            Chile                   3.0          189.36              109.0        15.50  January 2022\n",
       "3         Thailand                   4.0          184.03               56.0        32.38  January 2022\n",
       "4  Hong Kong (SAR)                   5.0          173.42               38.0        45.86  January 2022"
      ]
     },
     "execution_count": 689,
     "metadata": {},
     "output_type": "execute_result"
    }
   ],
   "source": [
    "df_i = pd.read_csv(\"internet_speeds.csv\")\n",
    "df_i.head()"
   ]
  },
  {
   "cell_type": "code",
   "execution_count": 690,
   "id": "9878a605",
   "metadata": {
    "scrolled": true
   },
   "outputs": [
    {
     "data": {
      "text/plain": [
       "Country                  object\n",
       "Broadband Speed Rank    float64\n",
       "Broadband Mbps          float64\n",
       "Mobile Speed Rank       float64\n",
       "Mobile Mbps             float64\n",
       "As of                    object\n",
       "dtype: object"
      ]
     },
     "execution_count": 690,
     "metadata": {},
     "output_type": "execute_result"
    }
   ],
   "source": [
    "df_i.dtypes"
   ]
  },
  {
   "cell_type": "markdown",
   "id": "9e2cb2d1",
   "metadata": {},
   "source": [
    "all of the necessary columns were already float types for this data"
   ]
  },
  {
   "cell_type": "code",
   "execution_count": 691,
   "id": "eae0051b",
   "metadata": {},
   "outputs": [
    {
     "name": "stdout",
     "output_type": "stream",
     "text": [
      "Country                  0\n",
      "Broadband Speed Rank     0\n",
      "Broadband Mbps           0\n",
      "Mobile Speed Rank       40\n",
      "Mobile Mbps             40\n",
      "As of                    0\n",
      "dtype: int64\n"
     ]
    }
   ],
   "source": [
    "print(df_i.isnull().sum())"
   ]
  },
  {
   "cell_type": "code",
   "execution_count": 692,
   "id": "079c8945",
   "metadata": {},
   "outputs": [
    {
     "data": {
      "text/plain": [
       "(179, 6)"
      ]
     },
     "execution_count": 692,
     "metadata": {},
     "output_type": "execute_result"
    }
   ],
   "source": [
    "df_i.shape"
   ]
  },
  {
   "cell_type": "code",
   "execution_count": 693,
   "id": "a4340517",
   "metadata": {},
   "outputs": [],
   "source": [
    "df_i = df_i.dropna()"
   ]
  },
  {
   "cell_type": "code",
   "execution_count": 694,
   "id": "ecf0bdad",
   "metadata": {},
   "outputs": [
    {
     "name": "stdout",
     "output_type": "stream",
     "text": [
      "Country                 0\n",
      "Broadband Speed Rank    0\n",
      "Broadband Mbps          0\n",
      "Mobile Speed Rank       0\n",
      "Mobile Mbps             0\n",
      "As of                   0\n",
      "dtype: int64\n"
     ]
    }
   ],
   "source": [
    "print(df_i.isnull().sum())"
   ]
  },
  {
   "cell_type": "markdown",
   "id": "77ed3c2d",
   "metadata": {},
   "source": [
    "# Happiness CSV per country"
   ]
  },
  {
   "cell_type": "code",
   "execution_count": 695,
   "id": "bcca31d4",
   "metadata": {},
   "outputs": [
    {
     "data": {
      "text/html": [
       "<div>\n",
       "<style scoped>\n",
       "    .dataframe tbody tr th:only-of-type {\n",
       "        vertical-align: middle;\n",
       "    }\n",
       "\n",
       "    .dataframe tbody tr th {\n",
       "        vertical-align: top;\n",
       "    }\n",
       "\n",
       "    .dataframe thead th {\n",
       "        text-align: right;\n",
       "    }\n",
       "</style>\n",
       "<table border=\"1\" class=\"dataframe\">\n",
       "  <thead>\n",
       "    <tr style=\"text-align: right;\">\n",
       "      <th></th>\n",
       "      <th>RANK</th>\n",
       "      <th>Country</th>\n",
       "      <th>Happiness score</th>\n",
       "      <th>Whisker-high</th>\n",
       "      <th>Whisker-low</th>\n",
       "      <th>Dystopia (1.83) + residual</th>\n",
       "      <th>Explained by: GDP per capita</th>\n",
       "      <th>Explained by: Social support</th>\n",
       "      <th>Explained by: Healthy life expectancy</th>\n",
       "      <th>Explained by: Freedom to make life choices</th>\n",
       "      <th>Explained by: Generosity</th>\n",
       "      <th>Explained by: Perceptions of corruption</th>\n",
       "    </tr>\n",
       "  </thead>\n",
       "  <tbody>\n",
       "    <tr>\n",
       "      <th>0</th>\n",
       "      <td>1</td>\n",
       "      <td>Finland</td>\n",
       "      <td>7.821</td>\n",
       "      <td>7.886</td>\n",
       "      <td>7.756</td>\n",
       "      <td>2.518</td>\n",
       "      <td>1.892</td>\n",
       "      <td>1.258</td>\n",
       "      <td>0.775</td>\n",
       "      <td>0.736</td>\n",
       "      <td>0.109</td>\n",
       "      <td>0.534</td>\n",
       "    </tr>\n",
       "    <tr>\n",
       "      <th>1</th>\n",
       "      <td>2</td>\n",
       "      <td>Denmark</td>\n",
       "      <td>7.636</td>\n",
       "      <td>7.710</td>\n",
       "      <td>7.563</td>\n",
       "      <td>2.226</td>\n",
       "      <td>1.953</td>\n",
       "      <td>1.243</td>\n",
       "      <td>0.777</td>\n",
       "      <td>0.719</td>\n",
       "      <td>0.188</td>\n",
       "      <td>0.532</td>\n",
       "    </tr>\n",
       "    <tr>\n",
       "      <th>2</th>\n",
       "      <td>3</td>\n",
       "      <td>Iceland</td>\n",
       "      <td>7.557</td>\n",
       "      <td>7.651</td>\n",
       "      <td>7.464</td>\n",
       "      <td>2.320</td>\n",
       "      <td>1.936</td>\n",
       "      <td>1.320</td>\n",
       "      <td>0.803</td>\n",
       "      <td>0.718</td>\n",
       "      <td>0.270</td>\n",
       "      <td>0.191</td>\n",
       "    </tr>\n",
       "    <tr>\n",
       "      <th>3</th>\n",
       "      <td>4</td>\n",
       "      <td>Switzerland</td>\n",
       "      <td>7.512</td>\n",
       "      <td>7.586</td>\n",
       "      <td>7.437</td>\n",
       "      <td>2.153</td>\n",
       "      <td>2.026</td>\n",
       "      <td>1.226</td>\n",
       "      <td>0.822</td>\n",
       "      <td>0.677</td>\n",
       "      <td>0.147</td>\n",
       "      <td>0.461</td>\n",
       "    </tr>\n",
       "    <tr>\n",
       "      <th>4</th>\n",
       "      <td>5</td>\n",
       "      <td>Netherlands</td>\n",
       "      <td>7.415</td>\n",
       "      <td>7.471</td>\n",
       "      <td>7.359</td>\n",
       "      <td>2.137</td>\n",
       "      <td>1.945</td>\n",
       "      <td>1.206</td>\n",
       "      <td>0.787</td>\n",
       "      <td>0.651</td>\n",
       "      <td>0.271</td>\n",
       "      <td>0.419</td>\n",
       "    </tr>\n",
       "  </tbody>\n",
       "</table>\n",
       "</div>"
      ],
      "text/plain": [
       "   RANK      Country  Happiness score  Whisker-high  Whisker-low  Dystopia (1.83) + residual  Explained by: GDP per capita  Explained by: Social support  Explained by: Healthy life expectancy  Explained by: Freedom to make life choices  Explained by: Generosity  Explained by: Perceptions of corruption\n",
       "0     1      Finland            7.821         7.886        7.756                       2.518                         1.892                         1.258                                  0.775                                       0.736                     0.109                                    0.534\n",
       "1     2      Denmark            7.636         7.710        7.563                       2.226                         1.953                         1.243                                  0.777                                       0.719                     0.188                                    0.532\n",
       "2     3      Iceland            7.557         7.651        7.464                       2.320                         1.936                         1.320                                  0.803                                       0.718                     0.270                                    0.191\n",
       "3     4  Switzerland            7.512         7.586        7.437                       2.153                         2.026                         1.226                                  0.822                                       0.677                     0.147                                    0.461\n",
       "4     5  Netherlands            7.415         7.471        7.359                       2.137                         1.945                         1.206                                  0.787                                       0.651                     0.271                                    0.419"
      ]
     },
     "execution_count": 695,
     "metadata": {},
     "output_type": "execute_result"
    }
   ],
   "source": [
    "df_happy = pd.read_csv(\"happiness.csv\")\n",
    "df_happy.head()"
   ]
  },
  {
   "cell_type": "code",
   "execution_count": 696,
   "id": "0e6f3e27",
   "metadata": {},
   "outputs": [
    {
     "data": {
      "text/plain": [
       "RANK                                            int64\n",
       "Country                                        object\n",
       "Happiness score                               float64\n",
       "Whisker-high                                  float64\n",
       "Whisker-low                                   float64\n",
       "Dystopia (1.83) + residual                    float64\n",
       "Explained by: GDP per capita                  float64\n",
       "Explained by: Social support                  float64\n",
       "Explained by: Healthy life expectancy         float64\n",
       "Explained by: Freedom to make life choices    float64\n",
       "Explained by: Generosity                      float64\n",
       "Explained by: Perceptions of corruption       float64\n",
       "dtype: object"
      ]
     },
     "execution_count": 696,
     "metadata": {},
     "output_type": "execute_result"
    }
   ],
   "source": [
    "df_happy.dtypes"
   ]
  },
  {
   "cell_type": "markdown",
   "id": "5d5e07ba",
   "metadata": {},
   "source": [
    "these columns also had the necessary data types the data types did not need to be cleaned"
   ]
  },
  {
   "cell_type": "code",
   "execution_count": 697,
   "id": "df3bf535",
   "metadata": {
    "scrolled": true
   },
   "outputs": [
    {
     "name": "stdout",
     "output_type": "stream",
     "text": [
      "RANK                                          0\n",
      "Country                                       0\n",
      "Happiness score                               1\n",
      "Whisker-high                                  1\n",
      "Whisker-low                                   1\n",
      "Dystopia (1.83) + residual                    1\n",
      "Explained by: GDP per capita                  1\n",
      "Explained by: Social support                  1\n",
      "Explained by: Healthy life expectancy         1\n",
      "Explained by: Freedom to make life choices    1\n",
      "Explained by: Generosity                      1\n",
      "Explained by: Perceptions of corruption       1\n",
      "dtype: int64\n"
     ]
    }
   ],
   "source": [
    "print(df_happy.isnull().sum())"
   ]
  },
  {
   "cell_type": "code",
   "execution_count": 698,
   "id": "250ef99a",
   "metadata": {},
   "outputs": [],
   "source": [
    "df_happy = df_happy.dropna()"
   ]
  },
  {
   "cell_type": "code",
   "execution_count": 699,
   "id": "54ab639c",
   "metadata": {},
   "outputs": [
    {
     "name": "stdout",
     "output_type": "stream",
     "text": [
      "RANK                                          0\n",
      "Country                                       0\n",
      "Happiness score                               0\n",
      "Whisker-high                                  0\n",
      "Whisker-low                                   0\n",
      "Dystopia (1.83) + residual                    0\n",
      "Explained by: GDP per capita                  0\n",
      "Explained by: Social support                  0\n",
      "Explained by: Healthy life expectancy         0\n",
      "Explained by: Freedom to make life choices    0\n",
      "Explained by: Generosity                      0\n",
      "Explained by: Perceptions of corruption       0\n",
      "dtype: int64\n"
     ]
    }
   ],
   "source": [
    "print(df_happy.isnull().sum())"
   ]
  },
  {
   "cell_type": "code",
   "execution_count": 700,
   "id": "8cc76095",
   "metadata": {},
   "outputs": [
    {
     "name": "stdout",
     "output_type": "stream",
     "text": [
      "(146, 12)\n"
     ]
    },
    {
     "data": {
      "text/html": [
       "<div>\n",
       "<style scoped>\n",
       "    .dataframe tbody tr th:only-of-type {\n",
       "        vertical-align: middle;\n",
       "    }\n",
       "\n",
       "    .dataframe tbody tr th {\n",
       "        vertical-align: top;\n",
       "    }\n",
       "\n",
       "    .dataframe thead th {\n",
       "        text-align: right;\n",
       "    }\n",
       "</style>\n",
       "<table border=\"1\" class=\"dataframe\">\n",
       "  <thead>\n",
       "    <tr style=\"text-align: right;\">\n",
       "      <th></th>\n",
       "      <th>RANK</th>\n",
       "      <th>Country</th>\n",
       "      <th>Happiness score</th>\n",
       "      <th>Whisker-high</th>\n",
       "      <th>Whisker-low</th>\n",
       "      <th>Dystopia (1.83) + residual</th>\n",
       "      <th>Explained by: GDP per capita</th>\n",
       "      <th>Explained by: Social support</th>\n",
       "      <th>Explained by: Healthy life expectancy</th>\n",
       "      <th>Explained by: Freedom to make life choices</th>\n",
       "      <th>Explained by: Generosity</th>\n",
       "      <th>Explained by: Perceptions of corruption</th>\n",
       "    </tr>\n",
       "  </thead>\n",
       "  <tbody>\n",
       "    <tr>\n",
       "      <th>0</th>\n",
       "      <td>1</td>\n",
       "      <td>Finland</td>\n",
       "      <td>7.821</td>\n",
       "      <td>7.886</td>\n",
       "      <td>7.756</td>\n",
       "      <td>2.518</td>\n",
       "      <td>1.892</td>\n",
       "      <td>1.258</td>\n",
       "      <td>0.775</td>\n",
       "      <td>0.736</td>\n",
       "      <td>0.109</td>\n",
       "      <td>0.534</td>\n",
       "    </tr>\n",
       "    <tr>\n",
       "      <th>1</th>\n",
       "      <td>2</td>\n",
       "      <td>Denmark</td>\n",
       "      <td>7.636</td>\n",
       "      <td>7.710</td>\n",
       "      <td>7.563</td>\n",
       "      <td>2.226</td>\n",
       "      <td>1.953</td>\n",
       "      <td>1.243</td>\n",
       "      <td>0.777</td>\n",
       "      <td>0.719</td>\n",
       "      <td>0.188</td>\n",
       "      <td>0.532</td>\n",
       "    </tr>\n",
       "    <tr>\n",
       "      <th>2</th>\n",
       "      <td>3</td>\n",
       "      <td>Iceland</td>\n",
       "      <td>7.557</td>\n",
       "      <td>7.651</td>\n",
       "      <td>7.464</td>\n",
       "      <td>2.320</td>\n",
       "      <td>1.936</td>\n",
       "      <td>1.320</td>\n",
       "      <td>0.803</td>\n",
       "      <td>0.718</td>\n",
       "      <td>0.270</td>\n",
       "      <td>0.191</td>\n",
       "    </tr>\n",
       "    <tr>\n",
       "      <th>3</th>\n",
       "      <td>4</td>\n",
       "      <td>Switzerland</td>\n",
       "      <td>7.512</td>\n",
       "      <td>7.586</td>\n",
       "      <td>7.437</td>\n",
       "      <td>2.153</td>\n",
       "      <td>2.026</td>\n",
       "      <td>1.226</td>\n",
       "      <td>0.822</td>\n",
       "      <td>0.677</td>\n",
       "      <td>0.147</td>\n",
       "      <td>0.461</td>\n",
       "    </tr>\n",
       "    <tr>\n",
       "      <th>4</th>\n",
       "      <td>5</td>\n",
       "      <td>Netherlands</td>\n",
       "      <td>7.415</td>\n",
       "      <td>7.471</td>\n",
       "      <td>7.359</td>\n",
       "      <td>2.137</td>\n",
       "      <td>1.945</td>\n",
       "      <td>1.206</td>\n",
       "      <td>0.787</td>\n",
       "      <td>0.651</td>\n",
       "      <td>0.271</td>\n",
       "      <td>0.419</td>\n",
       "    </tr>\n",
       "    <tr>\n",
       "      <th>...</th>\n",
       "      <td>...</td>\n",
       "      <td>...</td>\n",
       "      <td>...</td>\n",
       "      <td>...</td>\n",
       "      <td>...</td>\n",
       "      <td>...</td>\n",
       "      <td>...</td>\n",
       "      <td>...</td>\n",
       "      <td>...</td>\n",
       "      <td>...</td>\n",
       "      <td>...</td>\n",
       "      <td>...</td>\n",
       "    </tr>\n",
       "    <tr>\n",
       "      <th>141</th>\n",
       "      <td>142</td>\n",
       "      <td>Botswana*</td>\n",
       "      <td>3.471</td>\n",
       "      <td>3.667</td>\n",
       "      <td>3.275</td>\n",
       "      <td>0.187</td>\n",
       "      <td>1.503</td>\n",
       "      <td>0.815</td>\n",
       "      <td>0.280</td>\n",
       "      <td>0.571</td>\n",
       "      <td>0.012</td>\n",
       "      <td>0.102</td>\n",
       "    </tr>\n",
       "    <tr>\n",
       "      <th>142</th>\n",
       "      <td>143</td>\n",
       "      <td>Rwanda*</td>\n",
       "      <td>3.268</td>\n",
       "      <td>3.462</td>\n",
       "      <td>3.074</td>\n",
       "      <td>0.536</td>\n",
       "      <td>0.785</td>\n",
       "      <td>0.133</td>\n",
       "      <td>0.462</td>\n",
       "      <td>0.621</td>\n",
       "      <td>0.187</td>\n",
       "      <td>0.544</td>\n",
       "    </tr>\n",
       "    <tr>\n",
       "      <th>143</th>\n",
       "      <td>144</td>\n",
       "      <td>Zimbabwe</td>\n",
       "      <td>2.995</td>\n",
       "      <td>3.110</td>\n",
       "      <td>2.880</td>\n",
       "      <td>0.548</td>\n",
       "      <td>0.947</td>\n",
       "      <td>0.690</td>\n",
       "      <td>0.270</td>\n",
       "      <td>0.329</td>\n",
       "      <td>0.106</td>\n",
       "      <td>0.105</td>\n",
       "    </tr>\n",
       "    <tr>\n",
       "      <th>144</th>\n",
       "      <td>145</td>\n",
       "      <td>Lebanon</td>\n",
       "      <td>2.955</td>\n",
       "      <td>3.049</td>\n",
       "      <td>2.862</td>\n",
       "      <td>0.216</td>\n",
       "      <td>1.392</td>\n",
       "      <td>0.498</td>\n",
       "      <td>0.631</td>\n",
       "      <td>0.103</td>\n",
       "      <td>0.082</td>\n",
       "      <td>0.034</td>\n",
       "    </tr>\n",
       "    <tr>\n",
       "      <th>145</th>\n",
       "      <td>146</td>\n",
       "      <td>Afghanistan</td>\n",
       "      <td>2.404</td>\n",
       "      <td>2.469</td>\n",
       "      <td>2.339</td>\n",
       "      <td>1.263</td>\n",
       "      <td>0.758</td>\n",
       "      <td>0.000</td>\n",
       "      <td>0.289</td>\n",
       "      <td>0.000</td>\n",
       "      <td>0.089</td>\n",
       "      <td>0.005</td>\n",
       "    </tr>\n",
       "  </tbody>\n",
       "</table>\n",
       "<p>146 rows × 12 columns</p>\n",
       "</div>"
      ],
      "text/plain": [
       "     RANK      Country  Happiness score  Whisker-high  Whisker-low  Dystopia (1.83) + residual  Explained by: GDP per capita  Explained by: Social support  Explained by: Healthy life expectancy  Explained by: Freedom to make life choices  Explained by: Generosity  Explained by: Perceptions of corruption\n",
       "0       1      Finland            7.821         7.886        7.756                       2.518                         1.892                         1.258                                  0.775                                       0.736                     0.109                                    0.534\n",
       "1       2      Denmark            7.636         7.710        7.563                       2.226                         1.953                         1.243                                  0.777                                       0.719                     0.188                                    0.532\n",
       "2       3      Iceland            7.557         7.651        7.464                       2.320                         1.936                         1.320                                  0.803                                       0.718                     0.270                                    0.191\n",
       "3       4  Switzerland            7.512         7.586        7.437                       2.153                         2.026                         1.226                                  0.822                                       0.677                     0.147                                    0.461\n",
       "4       5  Netherlands            7.415         7.471        7.359                       2.137                         1.945                         1.206                                  0.787                                       0.651                     0.271                                    0.419\n",
       "..    ...          ...              ...           ...          ...                         ...                           ...                           ...                                    ...                                         ...                       ...                                      ...\n",
       "141   142    Botswana*            3.471         3.667        3.275                       0.187                         1.503                         0.815                                  0.280                                       0.571                     0.012                                    0.102\n",
       "142   143      Rwanda*            3.268         3.462        3.074                       0.536                         0.785                         0.133                                  0.462                                       0.621                     0.187                                    0.544\n",
       "143   144     Zimbabwe            2.995         3.110        2.880                       0.548                         0.947                         0.690                                  0.270                                       0.329                     0.106                                    0.105\n",
       "144   145      Lebanon            2.955         3.049        2.862                       0.216                         1.392                         0.498                                  0.631                                       0.103                     0.082                                    0.034\n",
       "145   146  Afghanistan            2.404         2.469        2.339                       1.263                         0.758                         0.000                                  0.289                                       0.000                     0.089                                    0.005\n",
       "\n",
       "[146 rows x 12 columns]"
      ]
     },
     "execution_count": 700,
     "metadata": {},
     "output_type": "execute_result"
    }
   ],
   "source": [
    "print(df_happy.shape)\n",
    "df_happy"
   ]
  },
  {
   "cell_type": "markdown",
   "id": "8f6f540f",
   "metadata": {},
   "source": [
    "## match the data by country"
   ]
  },
  {
   "cell_type": "code",
   "execution_count": 701,
   "id": "264084c9",
   "metadata": {
    "scrolled": false
   },
   "outputs": [
    {
     "name": "stdout",
     "output_type": "stream",
     "text": [
      "(146, 12)\n",
      "(139, 6)\n",
      "RANK                                            int64\n",
      "Country                                        object\n",
      "Happiness score                               float64\n",
      "Whisker-high                                  float64\n",
      "Whisker-low                                   float64\n",
      "Dystopia (1.83) + residual                    float64\n",
      "Explained by: GDP per capita                  float64\n",
      "Explained by: Social support                  float64\n",
      "Explained by: Healthy life expectancy         float64\n",
      "Explained by: Freedom to make life choices    float64\n",
      "Explained by: Generosity                      float64\n",
      "Explained by: Perceptions of corruption       float64\n",
      "dtype: object\n"
     ]
    },
    {
     "data": {
      "text/plain": [
       "Country                  object\n",
       "Broadband Speed Rank    float64\n",
       "Broadband Mbps          float64\n",
       "Mobile Speed Rank       float64\n",
       "Mobile Mbps             float64\n",
       "As of                    object\n",
       "dtype: object"
      ]
     },
     "execution_count": 701,
     "metadata": {},
     "output_type": "execute_result"
    }
   ],
   "source": [
    "print(df_happy.shape)\n",
    "print(df_i.shape)\n",
    "\n",
    "print(df_happy.dtypes)\n",
    "\n",
    "df_i.dtypes"
   ]
  },
  {
   "cell_type": "markdown",
   "id": "602a35bc",
   "metadata": {},
   "source": [
    "remove the '*' from the happiness data to make it easier to match"
   ]
  },
  {
   "cell_type": "code",
   "execution_count": 702,
   "id": "6929895b",
   "metadata": {},
   "outputs": [
    {
     "data": {
      "text/plain": [
       "['Finland',\n",
       " 'Denmark',\n",
       " 'Iceland',\n",
       " 'Switzerland',\n",
       " 'Netherlands',\n",
       " 'Luxembourg',\n",
       " 'Sweden',\n",
       " 'Norway',\n",
       " 'Israel',\n",
       " 'New Zealand',\n",
       " 'Austria',\n",
       " 'Australia',\n",
       " 'Ireland',\n",
       " 'Germany',\n",
       " 'Canada',\n",
       " 'United States',\n",
       " 'United Kingdom',\n",
       " 'Czechia',\n",
       " 'Belgium',\n",
       " 'France',\n",
       " 'Bahrain',\n",
       " 'Slovenia',\n",
       " 'Costa Rica',\n",
       " 'United Arab Emirates',\n",
       " 'Saudi Arabia',\n",
       " 'Taiwan Province of China',\n",
       " 'Singapore',\n",
       " 'Romania',\n",
       " 'Spain',\n",
       " 'Uruguay',\n",
       " 'Italy',\n",
       " 'Kosovo',\n",
       " 'Malta',\n",
       " 'Lithuania',\n",
       " 'Slovakia',\n",
       " 'Estonia',\n",
       " 'Panama',\n",
       " 'Brazil',\n",
       " 'Guatemala',\n",
       " 'Kazakhstan',\n",
       " 'Cyprus',\n",
       " 'Latvia',\n",
       " 'Serbia',\n",
       " 'Chile',\n",
       " 'Nicaragua',\n",
       " 'Mexico',\n",
       " 'Croatia',\n",
       " 'Poland',\n",
       " 'El Salvador',\n",
       " 'Kuwait',\n",
       " 'Hungary',\n",
       " 'Mauritius',\n",
       " 'Uzbekistan',\n",
       " 'Japan',\n",
       " 'Honduras',\n",
       " 'Portugal',\n",
       " 'Argentina',\n",
       " 'Greece',\n",
       " 'South Korea',\n",
       " 'Philippines',\n",
       " 'Thailand',\n",
       " 'Moldova',\n",
       " 'Jamaica',\n",
       " 'Kyrgyzstan',\n",
       " 'Belarus',\n",
       " 'Colombia',\n",
       " 'Bosnia and Herzegovina',\n",
       " 'Mongolia',\n",
       " 'Dominican Republic',\n",
       " 'Malaysia',\n",
       " 'Bolivia',\n",
       " 'China',\n",
       " 'Paraguay',\n",
       " 'Peru',\n",
       " 'Montenegro',\n",
       " 'Ecuador',\n",
       " 'Vietnam',\n",
       " 'Turkmenistan',\n",
       " 'North Cyprus',\n",
       " 'Russia',\n",
       " 'Hong Kong S.A.R. of China',\n",
       " 'Armenia',\n",
       " 'Tajikistan',\n",
       " 'Nepal',\n",
       " 'Bulgaria',\n",
       " 'Libya',\n",
       " 'Indonesia',\n",
       " 'Ivory Coast',\n",
       " 'North Macedonia',\n",
       " 'Albania',\n",
       " 'South Africa',\n",
       " 'Azerbaijan',\n",
       " 'Gambia',\n",
       " 'Bangladesh',\n",
       " 'Laos',\n",
       " 'Algeria',\n",
       " 'Liberia',\n",
       " 'Ukraine',\n",
       " 'Congo',\n",
       " 'Morocco',\n",
       " 'Mozambique',\n",
       " 'Cameroon',\n",
       " 'Senegal',\n",
       " 'Niger',\n",
       " 'Georgia',\n",
       " 'Gabon',\n",
       " 'Iraq',\n",
       " 'Venezuela',\n",
       " 'Guinea',\n",
       " 'Iran',\n",
       " 'Ghana',\n",
       " 'Turkey',\n",
       " 'Burkina Faso',\n",
       " 'Cambodia',\n",
       " 'Benin',\n",
       " 'Comoros',\n",
       " 'Uganda',\n",
       " 'Nigeria',\n",
       " 'Kenya',\n",
       " 'Tunisia',\n",
       " 'Pakistan',\n",
       " 'Palestinian Territories',\n",
       " 'Mali',\n",
       " 'Namibia',\n",
       " 'Eswatini, Kingdom of',\n",
       " 'Myanmar',\n",
       " 'Sri Lanka',\n",
       " 'Madagascar',\n",
       " 'Egypt',\n",
       " 'Chad',\n",
       " 'Ethiopia',\n",
       " 'Yemen',\n",
       " 'Mauritania',\n",
       " 'Jordan',\n",
       " 'Togo',\n",
       " 'India',\n",
       " 'Zambia',\n",
       " 'Malawi',\n",
       " 'Tanzania',\n",
       " 'Sierra Leone',\n",
       " 'Lesotho',\n",
       " 'Botswana',\n",
       " 'Rwanda',\n",
       " 'Zimbabwe',\n",
       " 'Lebanon',\n",
       " 'Afghanistan']"
      ]
     },
     "execution_count": 702,
     "metadata": {},
     "output_type": "execute_result"
    }
   ],
   "source": [
    "#drop rows where the country is not present in df_i\n",
    "#find the difference in the arrays\n",
    "#is in\n",
    "\n",
    "\n",
    "#remove * from h\n",
    "\n",
    "\n",
    "test_h = df_happy[:]\n",
    "\n",
    "test_i = df_i[:]\n",
    "\n",
    "hcountries = test_h.Country.tolist()\n",
    "icountries = test_i.Country.tolist()\n",
    "\n",
    "fhcountries = []\n",
    "for c in hcountries:\n",
    "    if (c[len(c)-1] == \"*\"):\n",
    "        c= c[:-1]\n",
    "        fhcountries.append(c)\n",
    "    else:\n",
    "        fhcountries.append(c)\n",
    "hcountries = fhcountries[:]\n",
    "\n",
    "#mutually exclusive countries\n",
    "\n",
    "mecountries = set(hcountries).symmetric_difference(icountries)\n",
    "len(mecountries)\n",
    "hcountries"
   ]
  },
  {
   "cell_type": "markdown",
   "id": "6d717130",
   "metadata": {},
   "source": [
    "reset the happiness countries to the fixed countries"
   ]
  },
  {
   "cell_type": "code",
   "execution_count": 703,
   "id": "71dad00f",
   "metadata": {},
   "outputs": [],
   "source": [
    "test_h['Country'] = hcountries[:]"
   ]
  },
  {
   "cell_type": "code",
   "execution_count": 704,
   "id": "b02a52f6",
   "metadata": {},
   "outputs": [],
   "source": [
    "#function to remove mutually exclusive countries from both\n",
    "def removeME(countries, ctbr):\n",
    "    for c in ctbr:\n",
    "        countries = list(filter(lambda co: co != c, countries))\n",
    "    return countries"
   ]
  },
  {
   "cell_type": "code",
   "execution_count": 705,
   "id": "9d9d064a",
   "metadata": {},
   "outputs": [
    {
     "data": {
      "text/html": [
       "<div>\n",
       "<style scoped>\n",
       "    .dataframe tbody tr th:only-of-type {\n",
       "        vertical-align: middle;\n",
       "    }\n",
       "\n",
       "    .dataframe tbody tr th {\n",
       "        vertical-align: top;\n",
       "    }\n",
       "\n",
       "    .dataframe thead th {\n",
       "        text-align: right;\n",
       "    }\n",
       "</style>\n",
       "<table border=\"1\" class=\"dataframe\">\n",
       "  <thead>\n",
       "    <tr style=\"text-align: right;\">\n",
       "      <th></th>\n",
       "      <th>RANK</th>\n",
       "      <th>Country</th>\n",
       "      <th>Happiness score</th>\n",
       "      <th>Whisker-high</th>\n",
       "      <th>Whisker-low</th>\n",
       "      <th>Dystopia (1.83) + residual</th>\n",
       "      <th>Explained by: GDP per capita</th>\n",
       "      <th>Explained by: Social support</th>\n",
       "      <th>Explained by: Healthy life expectancy</th>\n",
       "      <th>Explained by: Freedom to make life choices</th>\n",
       "      <th>Explained by: Generosity</th>\n",
       "      <th>Explained by: Perceptions of corruption</th>\n",
       "    </tr>\n",
       "  </thead>\n",
       "  <tbody>\n",
       "    <tr>\n",
       "      <th>0</th>\n",
       "      <td>1</td>\n",
       "      <td>Finland</td>\n",
       "      <td>7.821</td>\n",
       "      <td>7.886</td>\n",
       "      <td>7.756</td>\n",
       "      <td>2.518</td>\n",
       "      <td>1.892</td>\n",
       "      <td>1.258</td>\n",
       "      <td>0.775</td>\n",
       "      <td>0.736</td>\n",
       "      <td>0.109</td>\n",
       "      <td>0.534</td>\n",
       "    </tr>\n",
       "    <tr>\n",
       "      <th>1</th>\n",
       "      <td>2</td>\n",
       "      <td>Denmark</td>\n",
       "      <td>7.636</td>\n",
       "      <td>7.710</td>\n",
       "      <td>7.563</td>\n",
       "      <td>2.226</td>\n",
       "      <td>1.953</td>\n",
       "      <td>1.243</td>\n",
       "      <td>0.777</td>\n",
       "      <td>0.719</td>\n",
       "      <td>0.188</td>\n",
       "      <td>0.532</td>\n",
       "    </tr>\n",
       "    <tr>\n",
       "      <th>2</th>\n",
       "      <td>3</td>\n",
       "      <td>Iceland</td>\n",
       "      <td>7.557</td>\n",
       "      <td>7.651</td>\n",
       "      <td>7.464</td>\n",
       "      <td>2.320</td>\n",
       "      <td>1.936</td>\n",
       "      <td>1.320</td>\n",
       "      <td>0.803</td>\n",
       "      <td>0.718</td>\n",
       "      <td>0.270</td>\n",
       "      <td>0.191</td>\n",
       "    </tr>\n",
       "    <tr>\n",
       "      <th>3</th>\n",
       "      <td>4</td>\n",
       "      <td>Switzerland</td>\n",
       "      <td>7.512</td>\n",
       "      <td>7.586</td>\n",
       "      <td>7.437</td>\n",
       "      <td>2.153</td>\n",
       "      <td>2.026</td>\n",
       "      <td>1.226</td>\n",
       "      <td>0.822</td>\n",
       "      <td>0.677</td>\n",
       "      <td>0.147</td>\n",
       "      <td>0.461</td>\n",
       "    </tr>\n",
       "    <tr>\n",
       "      <th>4</th>\n",
       "      <td>5</td>\n",
       "      <td>Netherlands</td>\n",
       "      <td>7.415</td>\n",
       "      <td>7.471</td>\n",
       "      <td>7.359</td>\n",
       "      <td>2.137</td>\n",
       "      <td>1.945</td>\n",
       "      <td>1.206</td>\n",
       "      <td>0.787</td>\n",
       "      <td>0.651</td>\n",
       "      <td>0.271</td>\n",
       "      <td>0.419</td>\n",
       "    </tr>\n",
       "    <tr>\n",
       "      <th>...</th>\n",
       "      <td>...</td>\n",
       "      <td>...</td>\n",
       "      <td>...</td>\n",
       "      <td>...</td>\n",
       "      <td>...</td>\n",
       "      <td>...</td>\n",
       "      <td>...</td>\n",
       "      <td>...</td>\n",
       "      <td>...</td>\n",
       "      <td>...</td>\n",
       "      <td>...</td>\n",
       "      <td>...</td>\n",
       "    </tr>\n",
       "    <tr>\n",
       "      <th>141</th>\n",
       "      <td>142</td>\n",
       "      <td>Botswana</td>\n",
       "      <td>3.471</td>\n",
       "      <td>3.667</td>\n",
       "      <td>3.275</td>\n",
       "      <td>0.187</td>\n",
       "      <td>1.503</td>\n",
       "      <td>0.815</td>\n",
       "      <td>0.280</td>\n",
       "      <td>0.571</td>\n",
       "      <td>0.012</td>\n",
       "      <td>0.102</td>\n",
       "    </tr>\n",
       "    <tr>\n",
       "      <th>142</th>\n",
       "      <td>143</td>\n",
       "      <td>Rwanda</td>\n",
       "      <td>3.268</td>\n",
       "      <td>3.462</td>\n",
       "      <td>3.074</td>\n",
       "      <td>0.536</td>\n",
       "      <td>0.785</td>\n",
       "      <td>0.133</td>\n",
       "      <td>0.462</td>\n",
       "      <td>0.621</td>\n",
       "      <td>0.187</td>\n",
       "      <td>0.544</td>\n",
       "    </tr>\n",
       "    <tr>\n",
       "      <th>143</th>\n",
       "      <td>144</td>\n",
       "      <td>Zimbabwe</td>\n",
       "      <td>2.995</td>\n",
       "      <td>3.110</td>\n",
       "      <td>2.880</td>\n",
       "      <td>0.548</td>\n",
       "      <td>0.947</td>\n",
       "      <td>0.690</td>\n",
       "      <td>0.270</td>\n",
       "      <td>0.329</td>\n",
       "      <td>0.106</td>\n",
       "      <td>0.105</td>\n",
       "    </tr>\n",
       "    <tr>\n",
       "      <th>144</th>\n",
       "      <td>145</td>\n",
       "      <td>Lebanon</td>\n",
       "      <td>2.955</td>\n",
       "      <td>3.049</td>\n",
       "      <td>2.862</td>\n",
       "      <td>0.216</td>\n",
       "      <td>1.392</td>\n",
       "      <td>0.498</td>\n",
       "      <td>0.631</td>\n",
       "      <td>0.103</td>\n",
       "      <td>0.082</td>\n",
       "      <td>0.034</td>\n",
       "    </tr>\n",
       "    <tr>\n",
       "      <th>145</th>\n",
       "      <td>146</td>\n",
       "      <td>Afghanistan</td>\n",
       "      <td>2.404</td>\n",
       "      <td>2.469</td>\n",
       "      <td>2.339</td>\n",
       "      <td>1.263</td>\n",
       "      <td>0.758</td>\n",
       "      <td>0.000</td>\n",
       "      <td>0.289</td>\n",
       "      <td>0.000</td>\n",
       "      <td>0.089</td>\n",
       "      <td>0.005</td>\n",
       "    </tr>\n",
       "  </tbody>\n",
       "</table>\n",
       "<p>146 rows × 12 columns</p>\n",
       "</div>"
      ],
      "text/plain": [
       "     RANK      Country  Happiness score  Whisker-high  Whisker-low  Dystopia (1.83) + residual  Explained by: GDP per capita  Explained by: Social support  Explained by: Healthy life expectancy  Explained by: Freedom to make life choices  Explained by: Generosity  Explained by: Perceptions of corruption\n",
       "0       1      Finland            7.821         7.886        7.756                       2.518                         1.892                         1.258                                  0.775                                       0.736                     0.109                                    0.534\n",
       "1       2      Denmark            7.636         7.710        7.563                       2.226                         1.953                         1.243                                  0.777                                       0.719                     0.188                                    0.532\n",
       "2       3      Iceland            7.557         7.651        7.464                       2.320                         1.936                         1.320                                  0.803                                       0.718                     0.270                                    0.191\n",
       "3       4  Switzerland            7.512         7.586        7.437                       2.153                         2.026                         1.226                                  0.822                                       0.677                     0.147                                    0.461\n",
       "4       5  Netherlands            7.415         7.471        7.359                       2.137                         1.945                         1.206                                  0.787                                       0.651                     0.271                                    0.419\n",
       "..    ...          ...              ...           ...          ...                         ...                           ...                           ...                                    ...                                         ...                       ...                                      ...\n",
       "141   142     Botswana            3.471         3.667        3.275                       0.187                         1.503                         0.815                                  0.280                                       0.571                     0.012                                    0.102\n",
       "142   143       Rwanda            3.268         3.462        3.074                       0.536                         0.785                         0.133                                  0.462                                       0.621                     0.187                                    0.544\n",
       "143   144     Zimbabwe            2.995         3.110        2.880                       0.548                         0.947                         0.690                                  0.270                                       0.329                     0.106                                    0.105\n",
       "144   145      Lebanon            2.955         3.049        2.862                       0.216                         1.392                         0.498                                  0.631                                       0.103                     0.082                                    0.034\n",
       "145   146  Afghanistan            2.404         2.469        2.339                       1.263                         0.758                         0.000                                  0.289                                       0.000                     0.089                                    0.005\n",
       "\n",
       "[146 rows x 12 columns]"
      ]
     },
     "execution_count": 705,
     "metadata": {},
     "output_type": "execute_result"
    }
   ],
   "source": [
    "test_h"
   ]
  },
  {
   "cell_type": "code",
   "execution_count": 706,
   "id": "d7b307ee",
   "metadata": {},
   "outputs": [],
   "source": [
    "mehcountries = removeME(hcountries, mecountries)\n"
   ]
  },
  {
   "cell_type": "code",
   "execution_count": 707,
   "id": "6f552435",
   "metadata": {},
   "outputs": [],
   "source": [
    "meicountries = removeME(icountries, mecountries)"
   ]
  },
  {
   "cell_type": "code",
   "execution_count": 708,
   "id": "4eac28c2",
   "metadata": {},
   "outputs": [
    {
     "data": {
      "text/plain": [
       "True"
      ]
     },
     "execution_count": 708,
     "metadata": {},
     "output_type": "execute_result"
    }
   ],
   "source": [
    "#countries that we want to put in the  list\n",
    "meicountries.sort() == mehcountries.sort()"
   ]
  },
  {
   "cell_type": "markdown",
   "id": "1cf0b502",
   "metadata": {},
   "source": [
    "We have found the countries that are present in both and fixed the * at the end of some"
   ]
  },
  {
   "cell_type": "code",
   "execution_count": 709,
   "id": "8fb035f1",
   "metadata": {},
   "outputs": [
    {
     "data": {
      "text/plain": [
       "['Finland',\n",
       " 'Denmark',\n",
       " 'Iceland',\n",
       " 'Switzerland',\n",
       " 'Netherlands',\n",
       " 'Luxembourg',\n",
       " 'Sweden',\n",
       " 'Norway',\n",
       " 'Israel',\n",
       " 'New Zealand',\n",
       " 'Austria',\n",
       " 'Australia',\n",
       " 'Ireland',\n",
       " 'Germany',\n",
       " 'Canada',\n",
       " 'United States',\n",
       " 'United Kingdom',\n",
       " 'Czechia',\n",
       " 'Belgium',\n",
       " 'France',\n",
       " 'Bahrain',\n",
       " 'Slovenia',\n",
       " 'Costa Rica',\n",
       " 'United Arab Emirates',\n",
       " 'Saudi Arabia',\n",
       " 'Taiwan Province of China',\n",
       " 'Singapore',\n",
       " 'Romania',\n",
       " 'Spain',\n",
       " 'Uruguay',\n",
       " 'Italy',\n",
       " 'Kosovo',\n",
       " 'Malta',\n",
       " 'Lithuania',\n",
       " 'Slovakia',\n",
       " 'Estonia',\n",
       " 'Panama',\n",
       " 'Brazil',\n",
       " 'Guatemala',\n",
       " 'Kazakhstan',\n",
       " 'Cyprus',\n",
       " 'Latvia',\n",
       " 'Serbia',\n",
       " 'Chile',\n",
       " 'Nicaragua',\n",
       " 'Mexico',\n",
       " 'Croatia',\n",
       " 'Poland',\n",
       " 'El Salvador',\n",
       " 'Kuwait',\n",
       " 'Hungary',\n",
       " 'Mauritius',\n",
       " 'Uzbekistan',\n",
       " 'Japan',\n",
       " 'Honduras',\n",
       " 'Portugal',\n",
       " 'Argentina',\n",
       " 'Greece',\n",
       " 'South Korea',\n",
       " 'Philippines',\n",
       " 'Thailand',\n",
       " 'Moldova',\n",
       " 'Jamaica',\n",
       " 'Kyrgyzstan',\n",
       " 'Belarus',\n",
       " 'Colombia',\n",
       " 'Bosnia and Herzegovina',\n",
       " 'Mongolia',\n",
       " 'Dominican Republic',\n",
       " 'Malaysia',\n",
       " 'Bolivia',\n",
       " 'China',\n",
       " 'Paraguay',\n",
       " 'Peru',\n",
       " 'Montenegro',\n",
       " 'Ecuador',\n",
       " 'Vietnam',\n",
       " 'Turkmenistan',\n",
       " 'North Cyprus',\n",
       " 'Russia',\n",
       " 'Hong Kong S.A.R. of China',\n",
       " 'Armenia',\n",
       " 'Tajikistan',\n",
       " 'Nepal',\n",
       " 'Bulgaria',\n",
       " 'Libya',\n",
       " 'Indonesia',\n",
       " 'Ivory Coast',\n",
       " 'North Macedonia',\n",
       " 'Albania',\n",
       " 'South Africa',\n",
       " 'Azerbaijan',\n",
       " 'Gambia',\n",
       " 'Bangladesh',\n",
       " 'Laos',\n",
       " 'Algeria',\n",
       " 'Liberia',\n",
       " 'Ukraine',\n",
       " 'Congo',\n",
       " 'Morocco',\n",
       " 'Mozambique',\n",
       " 'Cameroon',\n",
       " 'Senegal',\n",
       " 'Niger',\n",
       " 'Georgia',\n",
       " 'Gabon',\n",
       " 'Iraq',\n",
       " 'Venezuela',\n",
       " 'Guinea',\n",
       " 'Iran',\n",
       " 'Ghana',\n",
       " 'Turkey',\n",
       " 'Burkina Faso',\n",
       " 'Cambodia',\n",
       " 'Benin',\n",
       " 'Comoros',\n",
       " 'Uganda',\n",
       " 'Nigeria',\n",
       " 'Kenya',\n",
       " 'Tunisia',\n",
       " 'Pakistan',\n",
       " 'Palestinian Territories',\n",
       " 'Mali',\n",
       " 'Namibia',\n",
       " 'Eswatini, Kingdom of',\n",
       " 'Myanmar',\n",
       " 'Sri Lanka',\n",
       " 'Madagascar',\n",
       " 'Egypt',\n",
       " 'Chad',\n",
       " 'Ethiopia',\n",
       " 'Yemen',\n",
       " 'Mauritania',\n",
       " 'Jordan',\n",
       " 'Togo',\n",
       " 'India',\n",
       " 'Zambia',\n",
       " 'Malawi',\n",
       " 'Tanzania',\n",
       " 'Sierra Leone',\n",
       " 'Lesotho',\n",
       " 'Botswana',\n",
       " 'Rwanda',\n",
       " 'Zimbabwe',\n",
       " 'Lebanon',\n",
       " 'Afghanistan']"
      ]
     },
     "execution_count": 709,
     "metadata": {},
     "output_type": "execute_result"
    }
   ],
   "source": [
    "fhcountries"
   ]
  },
  {
   "cell_type": "code",
   "execution_count": 710,
   "id": "c23f5116",
   "metadata": {},
   "outputs": [
    {
     "data": {
      "text/html": [
       "<div>\n",
       "<style scoped>\n",
       "    .dataframe tbody tr th:only-of-type {\n",
       "        vertical-align: middle;\n",
       "    }\n",
       "\n",
       "    .dataframe tbody tr th {\n",
       "        vertical-align: top;\n",
       "    }\n",
       "\n",
       "    .dataframe thead th {\n",
       "        text-align: right;\n",
       "    }\n",
       "</style>\n",
       "<table border=\"1\" class=\"dataframe\">\n",
       "  <thead>\n",
       "    <tr style=\"text-align: right;\">\n",
       "      <th></th>\n",
       "      <th>Country</th>\n",
       "      <th>Broadband Speed Rank</th>\n",
       "      <th>Broadband Mbps</th>\n",
       "      <th>Mobile Speed Rank</th>\n",
       "      <th>Mobile Mbps</th>\n",
       "      <th>As of</th>\n",
       "    </tr>\n",
       "  </thead>\n",
       "  <tbody>\n",
       "    <tr>\n",
       "      <th>1</th>\n",
       "      <td>Singapore</td>\n",
       "      <td>2.0</td>\n",
       "      <td>192.01</td>\n",
       "      <td>19.0</td>\n",
       "      <td>64.92</td>\n",
       "      <td>January 2022</td>\n",
       "    </tr>\n",
       "    <tr>\n",
       "      <th>2</th>\n",
       "      <td>Chile</td>\n",
       "      <td>3.0</td>\n",
       "      <td>189.36</td>\n",
       "      <td>109.0</td>\n",
       "      <td>15.50</td>\n",
       "      <td>January 2022</td>\n",
       "    </tr>\n",
       "    <tr>\n",
       "      <th>3</th>\n",
       "      <td>Thailand</td>\n",
       "      <td>4.0</td>\n",
       "      <td>184.03</td>\n",
       "      <td>56.0</td>\n",
       "      <td>32.38</td>\n",
       "      <td>January 2022</td>\n",
       "    </tr>\n",
       "    <tr>\n",
       "      <th>4</th>\n",
       "      <td>Hong Kong (SAR)</td>\n",
       "      <td>5.0</td>\n",
       "      <td>173.42</td>\n",
       "      <td>38.0</td>\n",
       "      <td>45.86</td>\n",
       "      <td>January 2022</td>\n",
       "    </tr>\n",
       "    <tr>\n",
       "      <th>5</th>\n",
       "      <td>Denmark</td>\n",
       "      <td>6.0</td>\n",
       "      <td>163.60</td>\n",
       "      <td>8.0</td>\n",
       "      <td>87.11</td>\n",
       "      <td>January 2022</td>\n",
       "    </tr>\n",
       "    <tr>\n",
       "      <th>...</th>\n",
       "      <td>...</td>\n",
       "      <td>...</td>\n",
       "      <td>...</td>\n",
       "      <td>...</td>\n",
       "      <td>...</td>\n",
       "      <td>...</td>\n",
       "    </tr>\n",
       "    <tr>\n",
       "      <th>174</th>\n",
       "      <td>Yemen</td>\n",
       "      <td>175.0</td>\n",
       "      <td>2.74</td>\n",
       "      <td>140.0</td>\n",
       "      <td>0.53</td>\n",
       "      <td>January 2022</td>\n",
       "    </tr>\n",
       "    <tr>\n",
       "      <th>175</th>\n",
       "      <td>Ethiopia</td>\n",
       "      <td>176.0</td>\n",
       "      <td>2.69</td>\n",
       "      <td>78.0</td>\n",
       "      <td>22.83</td>\n",
       "      <td>January 2022</td>\n",
       "    </tr>\n",
       "    <tr>\n",
       "      <th>176</th>\n",
       "      <td>Cuba</td>\n",
       "      <td>177.0</td>\n",
       "      <td>1.90</td>\n",
       "      <td>119.0</td>\n",
       "      <td>12.71</td>\n",
       "      <td>January 2022</td>\n",
       "    </tr>\n",
       "    <tr>\n",
       "      <th>177</th>\n",
       "      <td>Turkmenistan</td>\n",
       "      <td>178.0</td>\n",
       "      <td>1.89</td>\n",
       "      <td>139.0</td>\n",
       "      <td>3.09</td>\n",
       "      <td>January 2022</td>\n",
       "    </tr>\n",
       "    <tr>\n",
       "      <th>178</th>\n",
       "      <td>Afghanistan</td>\n",
       "      <td>179.0</td>\n",
       "      <td>1.62</td>\n",
       "      <td>138.0</td>\n",
       "      <td>5.10</td>\n",
       "      <td>January 2022</td>\n",
       "    </tr>\n",
       "  </tbody>\n",
       "</table>\n",
       "<p>139 rows × 6 columns</p>\n",
       "</div>"
      ],
      "text/plain": [
       "             Country  Broadband Speed Rank  Broadband Mbps  Mobile Speed Rank  Mobile Mbps         As of\n",
       "1          Singapore                   2.0          192.01               19.0        64.92  January 2022\n",
       "2              Chile                   3.0          189.36              109.0        15.50  January 2022\n",
       "3           Thailand                   4.0          184.03               56.0        32.38  January 2022\n",
       "4    Hong Kong (SAR)                   5.0          173.42               38.0        45.86  January 2022\n",
       "5            Denmark                   6.0          163.60                8.0        87.11  January 2022\n",
       "..               ...                   ...             ...                ...          ...           ...\n",
       "174            Yemen                 175.0            2.74              140.0         0.53  January 2022\n",
       "175         Ethiopia                 176.0            2.69               78.0        22.83  January 2022\n",
       "176             Cuba                 177.0            1.90              119.0        12.71  January 2022\n",
       "177     Turkmenistan                 178.0            1.89              139.0         3.09  January 2022\n",
       "178      Afghanistan                 179.0            1.62              138.0         5.10  January 2022\n",
       "\n",
       "[139 rows x 6 columns]"
      ]
     },
     "execution_count": 710,
     "metadata": {},
     "output_type": "execute_result"
    }
   ],
   "source": [
    "test_i"
   ]
  },
  {
   "cell_type": "markdown",
   "id": "d9a3f5d3",
   "metadata": {},
   "source": [
    "## Remove the unwanted countries from the happiness frame"
   ]
  },
  {
   "cell_type": "code",
   "execution_count": 711,
   "id": "1be7bdb9",
   "metadata": {
    "scrolled": false
   },
   "outputs": [
    {
     "data": {
      "text/html": [
       "<div>\n",
       "<style scoped>\n",
       "    .dataframe tbody tr th:only-of-type {\n",
       "        vertical-align: middle;\n",
       "    }\n",
       "\n",
       "    .dataframe tbody tr th {\n",
       "        vertical-align: top;\n",
       "    }\n",
       "\n",
       "    .dataframe thead th {\n",
       "        text-align: right;\n",
       "    }\n",
       "</style>\n",
       "<table border=\"1\" class=\"dataframe\">\n",
       "  <thead>\n",
       "    <tr style=\"text-align: right;\">\n",
       "      <th></th>\n",
       "      <th>RANK</th>\n",
       "      <th>Country</th>\n",
       "      <th>Happiness score</th>\n",
       "      <th>Whisker-high</th>\n",
       "      <th>Whisker-low</th>\n",
       "      <th>Dystopia (1.83) + residual</th>\n",
       "      <th>Explained by: GDP per capita</th>\n",
       "      <th>Explained by: Social support</th>\n",
       "      <th>Explained by: Healthy life expectancy</th>\n",
       "      <th>Explained by: Freedom to make life choices</th>\n",
       "      <th>Explained by: Generosity</th>\n",
       "      <th>Explained by: Perceptions of corruption</th>\n",
       "    </tr>\n",
       "  </thead>\n",
       "  <tbody>\n",
       "    <tr>\n",
       "      <th>145</th>\n",
       "      <td>146</td>\n",
       "      <td>Afghanistan</td>\n",
       "      <td>2.404</td>\n",
       "      <td>2.469</td>\n",
       "      <td>2.339</td>\n",
       "      <td>1.263</td>\n",
       "      <td>0.758</td>\n",
       "      <td>0.000</td>\n",
       "      <td>0.289</td>\n",
       "      <td>0.000</td>\n",
       "      <td>0.089</td>\n",
       "      <td>0.005</td>\n",
       "    </tr>\n",
       "    <tr>\n",
       "      <th>89</th>\n",
       "      <td>90</td>\n",
       "      <td>Albania</td>\n",
       "      <td>5.199</td>\n",
       "      <td>5.321</td>\n",
       "      <td>5.076</td>\n",
       "      <td>1.718</td>\n",
       "      <td>1.439</td>\n",
       "      <td>0.646</td>\n",
       "      <td>0.719</td>\n",
       "      <td>0.511</td>\n",
       "      <td>0.138</td>\n",
       "      <td>0.028</td>\n",
       "    </tr>\n",
       "    <tr>\n",
       "      <th>95</th>\n",
       "      <td>96</td>\n",
       "      <td>Algeria</td>\n",
       "      <td>5.122</td>\n",
       "      <td>5.215</td>\n",
       "      <td>5.030</td>\n",
       "      <td>1.744</td>\n",
       "      <td>1.363</td>\n",
       "      <td>0.970</td>\n",
       "      <td>0.643</td>\n",
       "      <td>0.146</td>\n",
       "      <td>0.106</td>\n",
       "      <td>0.150</td>\n",
       "    </tr>\n",
       "    <tr>\n",
       "      <th>56</th>\n",
       "      <td>57</td>\n",
       "      <td>Argentina</td>\n",
       "      <td>5.967</td>\n",
       "      <td>6.090</td>\n",
       "      <td>5.844</td>\n",
       "      <td>1.891</td>\n",
       "      <td>1.592</td>\n",
       "      <td>1.102</td>\n",
       "      <td>0.662</td>\n",
       "      <td>0.555</td>\n",
       "      <td>0.081</td>\n",
       "      <td>0.085</td>\n",
       "    </tr>\n",
       "    <tr>\n",
       "      <th>81</th>\n",
       "      <td>82</td>\n",
       "      <td>Armenia</td>\n",
       "      <td>5.399</td>\n",
       "      <td>5.519</td>\n",
       "      <td>5.278</td>\n",
       "      <td>1.654</td>\n",
       "      <td>1.434</td>\n",
       "      <td>0.820</td>\n",
       "      <td>0.668</td>\n",
       "      <td>0.558</td>\n",
       "      <td>0.054</td>\n",
       "      <td>0.210</td>\n",
       "    </tr>\n",
       "    <tr>\n",
       "      <th>...</th>\n",
       "      <td>...</td>\n",
       "      <td>...</td>\n",
       "      <td>...</td>\n",
       "      <td>...</td>\n",
       "      <td>...</td>\n",
       "      <td>...</td>\n",
       "      <td>...</td>\n",
       "      <td>...</td>\n",
       "      <td>...</td>\n",
       "      <td>...</td>\n",
       "      <td>...</td>\n",
       "      <td>...</td>\n",
       "    </tr>\n",
       "    <tr>\n",
       "      <th>107</th>\n",
       "      <td>108</td>\n",
       "      <td>Venezuela</td>\n",
       "      <td>4.925</td>\n",
       "      <td>5.051</td>\n",
       "      <td>4.800</td>\n",
       "      <td>2.790</td>\n",
       "      <td>0.000</td>\n",
       "      <td>0.968</td>\n",
       "      <td>0.578</td>\n",
       "      <td>0.283</td>\n",
       "      <td>0.225</td>\n",
       "      <td>0.082</td>\n",
       "    </tr>\n",
       "    <tr>\n",
       "      <th>76</th>\n",
       "      <td>77</td>\n",
       "      <td>Vietnam</td>\n",
       "      <td>5.485</td>\n",
       "      <td>5.570</td>\n",
       "      <td>5.400</td>\n",
       "      <td>1.735</td>\n",
       "      <td>1.252</td>\n",
       "      <td>0.932</td>\n",
       "      <td>0.611</td>\n",
       "      <td>0.707</td>\n",
       "      <td>0.143</td>\n",
       "      <td>0.105</td>\n",
       "    </tr>\n",
       "    <tr>\n",
       "      <th>131</th>\n",
       "      <td>132</td>\n",
       "      <td>Yemen</td>\n",
       "      <td>4.197</td>\n",
       "      <td>4.384</td>\n",
       "      <td>4.010</td>\n",
       "      <td>1.561</td>\n",
       "      <td>0.691</td>\n",
       "      <td>1.043</td>\n",
       "      <td>0.384</td>\n",
       "      <td>0.330</td>\n",
       "      <td>0.090</td>\n",
       "      <td>0.098</td>\n",
       "    </tr>\n",
       "    <tr>\n",
       "      <th>136</th>\n",
       "      <td>137</td>\n",
       "      <td>Zambia</td>\n",
       "      <td>3.760</td>\n",
       "      <td>3.902</td>\n",
       "      <td>3.618</td>\n",
       "      <td>1.135</td>\n",
       "      <td>0.930</td>\n",
       "      <td>0.577</td>\n",
       "      <td>0.306</td>\n",
       "      <td>0.525</td>\n",
       "      <td>0.203</td>\n",
       "      <td>0.083</td>\n",
       "    </tr>\n",
       "    <tr>\n",
       "      <th>143</th>\n",
       "      <td>144</td>\n",
       "      <td>Zimbabwe</td>\n",
       "      <td>2.995</td>\n",
       "      <td>3.110</td>\n",
       "      <td>2.880</td>\n",
       "      <td>0.548</td>\n",
       "      <td>0.947</td>\n",
       "      <td>0.690</td>\n",
       "      <td>0.270</td>\n",
       "      <td>0.329</td>\n",
       "      <td>0.106</td>\n",
       "      <td>0.105</td>\n",
       "    </tr>\n",
       "  </tbody>\n",
       "</table>\n",
       "<p>121 rows × 12 columns</p>\n",
       "</div>"
      ],
      "text/plain": [
       "     RANK      Country  Happiness score  Whisker-high  Whisker-low  Dystopia (1.83) + residual  Explained by: GDP per capita  Explained by: Social support  Explained by: Healthy life expectancy  Explained by: Freedom to make life choices  Explained by: Generosity  Explained by: Perceptions of corruption\n",
       "145   146  Afghanistan            2.404         2.469        2.339                       1.263                         0.758                         0.000                                  0.289                                       0.000                     0.089                                    0.005\n",
       "89     90      Albania            5.199         5.321        5.076                       1.718                         1.439                         0.646                                  0.719                                       0.511                     0.138                                    0.028\n",
       "95     96      Algeria            5.122         5.215        5.030                       1.744                         1.363                         0.970                                  0.643                                       0.146                     0.106                                    0.150\n",
       "56     57    Argentina            5.967         6.090        5.844                       1.891                         1.592                         1.102                                  0.662                                       0.555                     0.081                                    0.085\n",
       "81     82      Armenia            5.399         5.519        5.278                       1.654                         1.434                         0.820                                  0.668                                       0.558                     0.054                                    0.210\n",
       "..    ...          ...              ...           ...          ...                         ...                           ...                           ...                                    ...                                         ...                       ...                                      ...\n",
       "107   108    Venezuela            4.925         5.051        4.800                       2.790                         0.000                         0.968                                  0.578                                       0.283                     0.225                                    0.082\n",
       "76     77      Vietnam            5.485         5.570        5.400                       1.735                         1.252                         0.932                                  0.611                                       0.707                     0.143                                    0.105\n",
       "131   132        Yemen            4.197         4.384        4.010                       1.561                         0.691                         1.043                                  0.384                                       0.330                     0.090                                    0.098\n",
       "136   137       Zambia            3.760         3.902        3.618                       1.135                         0.930                         0.577                                  0.306                                       0.525                     0.203                                    0.083\n",
       "143   144     Zimbabwe            2.995         3.110        2.880                       0.548                         0.947                         0.690                                  0.270                                       0.329                     0.106                                    0.105\n",
       "\n",
       "[121 rows x 12 columns]"
      ]
     },
     "execution_count": 711,
     "metadata": {},
     "output_type": "execute_result"
    }
   ],
   "source": [
    "\n",
    "#where a testh2[Country] isnt in mehcountries\n",
    "#drop the row\n",
    "df_testh = []\n",
    "dfTesth2 = test_h\n",
    "\n",
    "# Iterate over the countries in mehcountries\n",
    "for mehcs in mehcountries:\n",
    "    \n",
    "    df_testh.append(dfTesth2[dfTesth2['Country'] == mehcs])\n",
    " \n",
    "df_testh = pd.concat(df_testh)\n",
    " \n",
    "df_testh\n"
   ]
  },
  {
   "cell_type": "code",
   "execution_count": 712,
   "id": "5b742ae2",
   "metadata": {},
   "outputs": [
    {
     "data": {
      "text/html": [
       "<div>\n",
       "<style scoped>\n",
       "    .dataframe tbody tr th:only-of-type {\n",
       "        vertical-align: middle;\n",
       "    }\n",
       "\n",
       "    .dataframe tbody tr th {\n",
       "        vertical-align: top;\n",
       "    }\n",
       "\n",
       "    .dataframe thead th {\n",
       "        text-align: right;\n",
       "    }\n",
       "</style>\n",
       "<table border=\"1\" class=\"dataframe\">\n",
       "  <thead>\n",
       "    <tr style=\"text-align: right;\">\n",
       "      <th></th>\n",
       "      <th>Country</th>\n",
       "      <th>Broadband Speed Rank</th>\n",
       "      <th>Broadband Mbps</th>\n",
       "      <th>Mobile Speed Rank</th>\n",
       "      <th>Mobile Mbps</th>\n",
       "      <th>As of</th>\n",
       "    </tr>\n",
       "  </thead>\n",
       "  <tbody>\n",
       "    <tr>\n",
       "      <th>1</th>\n",
       "      <td>Singapore</td>\n",
       "      <td>2.0</td>\n",
       "      <td>192.01</td>\n",
       "      <td>19.0</td>\n",
       "      <td>64.92</td>\n",
       "      <td>January 2022</td>\n",
       "    </tr>\n",
       "    <tr>\n",
       "      <th>2</th>\n",
       "      <td>Chile</td>\n",
       "      <td>3.0</td>\n",
       "      <td>189.36</td>\n",
       "      <td>109.0</td>\n",
       "      <td>15.50</td>\n",
       "      <td>January 2022</td>\n",
       "    </tr>\n",
       "    <tr>\n",
       "      <th>3</th>\n",
       "      <td>Thailand</td>\n",
       "      <td>4.0</td>\n",
       "      <td>184.03</td>\n",
       "      <td>56.0</td>\n",
       "      <td>32.38</td>\n",
       "      <td>January 2022</td>\n",
       "    </tr>\n",
       "    <tr>\n",
       "      <th>4</th>\n",
       "      <td>Hong Kong (SAR)</td>\n",
       "      <td>5.0</td>\n",
       "      <td>173.42</td>\n",
       "      <td>38.0</td>\n",
       "      <td>45.86</td>\n",
       "      <td>January 2022</td>\n",
       "    </tr>\n",
       "    <tr>\n",
       "      <th>5</th>\n",
       "      <td>Denmark</td>\n",
       "      <td>6.0</td>\n",
       "      <td>163.60</td>\n",
       "      <td>8.0</td>\n",
       "      <td>87.11</td>\n",
       "      <td>January 2022</td>\n",
       "    </tr>\n",
       "    <tr>\n",
       "      <th>...</th>\n",
       "      <td>...</td>\n",
       "      <td>...</td>\n",
       "      <td>...</td>\n",
       "      <td>...</td>\n",
       "      <td>...</td>\n",
       "      <td>...</td>\n",
       "    </tr>\n",
       "    <tr>\n",
       "      <th>174</th>\n",
       "      <td>Yemen</td>\n",
       "      <td>175.0</td>\n",
       "      <td>2.74</td>\n",
       "      <td>140.0</td>\n",
       "      <td>0.53</td>\n",
       "      <td>January 2022</td>\n",
       "    </tr>\n",
       "    <tr>\n",
       "      <th>175</th>\n",
       "      <td>Ethiopia</td>\n",
       "      <td>176.0</td>\n",
       "      <td>2.69</td>\n",
       "      <td>78.0</td>\n",
       "      <td>22.83</td>\n",
       "      <td>January 2022</td>\n",
       "    </tr>\n",
       "    <tr>\n",
       "      <th>176</th>\n",
       "      <td>Cuba</td>\n",
       "      <td>177.0</td>\n",
       "      <td>1.90</td>\n",
       "      <td>119.0</td>\n",
       "      <td>12.71</td>\n",
       "      <td>January 2022</td>\n",
       "    </tr>\n",
       "    <tr>\n",
       "      <th>177</th>\n",
       "      <td>Turkmenistan</td>\n",
       "      <td>178.0</td>\n",
       "      <td>1.89</td>\n",
       "      <td>139.0</td>\n",
       "      <td>3.09</td>\n",
       "      <td>January 2022</td>\n",
       "    </tr>\n",
       "    <tr>\n",
       "      <th>178</th>\n",
       "      <td>Afghanistan</td>\n",
       "      <td>179.0</td>\n",
       "      <td>1.62</td>\n",
       "      <td>138.0</td>\n",
       "      <td>5.10</td>\n",
       "      <td>January 2022</td>\n",
       "    </tr>\n",
       "  </tbody>\n",
       "</table>\n",
       "<p>139 rows × 6 columns</p>\n",
       "</div>"
      ],
      "text/plain": [
       "             Country  Broadband Speed Rank  Broadband Mbps  Mobile Speed Rank  Mobile Mbps         As of\n",
       "1          Singapore                   2.0          192.01               19.0        64.92  January 2022\n",
       "2              Chile                   3.0          189.36              109.0        15.50  January 2022\n",
       "3           Thailand                   4.0          184.03               56.0        32.38  January 2022\n",
       "4    Hong Kong (SAR)                   5.0          173.42               38.0        45.86  January 2022\n",
       "5            Denmark                   6.0          163.60                8.0        87.11  January 2022\n",
       "..               ...                   ...             ...                ...          ...           ...\n",
       "174            Yemen                 175.0            2.74              140.0         0.53  January 2022\n",
       "175         Ethiopia                 176.0            2.69               78.0        22.83  January 2022\n",
       "176             Cuba                 177.0            1.90              119.0        12.71  January 2022\n",
       "177     Turkmenistan                 178.0            1.89              139.0         3.09  January 2022\n",
       "178      Afghanistan                 179.0            1.62              138.0         5.10  January 2022\n",
       "\n",
       "[139 rows x 6 columns]"
      ]
     },
     "execution_count": 712,
     "metadata": {},
     "output_type": "execute_result"
    }
   ],
   "source": [
    "test_i"
   ]
  },
  {
   "cell_type": "markdown",
   "id": "dec9075a",
   "metadata": {},
   "source": [
    "## Remove the unwanted countries from the broadband frame"
   ]
  },
  {
   "cell_type": "code",
   "execution_count": 713,
   "id": "902260f3",
   "metadata": {},
   "outputs": [
    {
     "data": {
      "text/html": [
       "<div>\n",
       "<style scoped>\n",
       "    .dataframe tbody tr th:only-of-type {\n",
       "        vertical-align: middle;\n",
       "    }\n",
       "\n",
       "    .dataframe tbody tr th {\n",
       "        vertical-align: top;\n",
       "    }\n",
       "\n",
       "    .dataframe thead th {\n",
       "        text-align: right;\n",
       "    }\n",
       "</style>\n",
       "<table border=\"1\" class=\"dataframe\">\n",
       "  <thead>\n",
       "    <tr style=\"text-align: right;\">\n",
       "      <th></th>\n",
       "      <th>Country</th>\n",
       "      <th>Broadband Speed Rank</th>\n",
       "      <th>Broadband Mbps</th>\n",
       "      <th>Mobile Speed Rank</th>\n",
       "      <th>Mobile Mbps</th>\n",
       "      <th>As of</th>\n",
       "    </tr>\n",
       "  </thead>\n",
       "  <tbody>\n",
       "    <tr>\n",
       "      <th>178</th>\n",
       "      <td>Afghanistan</td>\n",
       "      <td>179.0</td>\n",
       "      <td>1.62</td>\n",
       "      <td>138.0</td>\n",
       "      <td>5.10</td>\n",
       "      <td>January 2022</td>\n",
       "    </tr>\n",
       "    <tr>\n",
       "      <th>90</th>\n",
       "      <td>Albania</td>\n",
       "      <td>91.0</td>\n",
       "      <td>33.50</td>\n",
       "      <td>48.0</td>\n",
       "      <td>35.62</td>\n",
       "      <td>January 2022</td>\n",
       "    </tr>\n",
       "    <tr>\n",
       "      <th>143</th>\n",
       "      <td>Algeria</td>\n",
       "      <td>144.0</td>\n",
       "      <td>9.72</td>\n",
       "      <td>125.0</td>\n",
       "      <td>11.31</td>\n",
       "      <td>January 2022</td>\n",
       "    </tr>\n",
       "    <tr>\n",
       "      <th>81</th>\n",
       "      <td>Argentina</td>\n",
       "      <td>82.0</td>\n",
       "      <td>38.47</td>\n",
       "      <td>84.0</td>\n",
       "      <td>20.07</td>\n",
       "      <td>January 2022</td>\n",
       "    </tr>\n",
       "    <tr>\n",
       "      <th>87</th>\n",
       "      <td>Armenia</td>\n",
       "      <td>88.0</td>\n",
       "      <td>34.26</td>\n",
       "      <td>69.0</td>\n",
       "      <td>26.23</td>\n",
       "      <td>January 2022</td>\n",
       "    </tr>\n",
       "    <tr>\n",
       "      <th>...</th>\n",
       "      <td>...</td>\n",
       "      <td>...</td>\n",
       "      <td>...</td>\n",
       "      <td>...</td>\n",
       "      <td>...</td>\n",
       "      <td>...</td>\n",
       "    </tr>\n",
       "    <tr>\n",
       "      <th>160</th>\n",
       "      <td>Venezuela</td>\n",
       "      <td>161.0</td>\n",
       "      <td>7.15</td>\n",
       "      <td>136.0</td>\n",
       "      <td>5.99</td>\n",
       "      <td>January 2022</td>\n",
       "    </tr>\n",
       "    <tr>\n",
       "      <th>46</th>\n",
       "      <td>Vietnam</td>\n",
       "      <td>47.0</td>\n",
       "      <td>67.50</td>\n",
       "      <td>45.0</td>\n",
       "      <td>39.01</td>\n",
       "      <td>January 2022</td>\n",
       "    </tr>\n",
       "    <tr>\n",
       "      <th>174</th>\n",
       "      <td>Yemen</td>\n",
       "      <td>175.0</td>\n",
       "      <td>2.74</td>\n",
       "      <td>140.0</td>\n",
       "      <td>0.53</td>\n",
       "      <td>January 2022</td>\n",
       "    </tr>\n",
       "    <tr>\n",
       "      <th>169</th>\n",
       "      <td>Zambia</td>\n",
       "      <td>170.0</td>\n",
       "      <td>4.60</td>\n",
       "      <td>121.0</td>\n",
       "      <td>12.46</td>\n",
       "      <td>January 2022</td>\n",
       "    </tr>\n",
       "    <tr>\n",
       "      <th>166</th>\n",
       "      <td>Zimbabwe</td>\n",
       "      <td>167.0</td>\n",
       "      <td>5.21</td>\n",
       "      <td>123.0</td>\n",
       "      <td>12.02</td>\n",
       "      <td>January 2022</td>\n",
       "    </tr>\n",
       "  </tbody>\n",
       "</table>\n",
       "<p>121 rows × 6 columns</p>\n",
       "</div>"
      ],
      "text/plain": [
       "         Country  Broadband Speed Rank  Broadband Mbps  Mobile Speed Rank  Mobile Mbps         As of\n",
       "178  Afghanistan                 179.0            1.62              138.0         5.10  January 2022\n",
       "90       Albania                  91.0           33.50               48.0        35.62  January 2022\n",
       "143      Algeria                 144.0            9.72              125.0        11.31  January 2022\n",
       "81     Argentina                  82.0           38.47               84.0        20.07  January 2022\n",
       "87       Armenia                  88.0           34.26               69.0        26.23  January 2022\n",
       "..           ...                   ...             ...                ...          ...           ...\n",
       "160    Venezuela                 161.0            7.15              136.0         5.99  January 2022\n",
       "46       Vietnam                  47.0           67.50               45.0        39.01  January 2022\n",
       "174        Yemen                 175.0            2.74              140.0         0.53  January 2022\n",
       "169       Zambia                 170.0            4.60              121.0        12.46  January 2022\n",
       "166     Zimbabwe                 167.0            5.21              123.0        12.02  January 2022\n",
       "\n",
       "[121 rows x 6 columns]"
      ]
     },
     "execution_count": 713,
     "metadata": {},
     "output_type": "execute_result"
    }
   ],
   "source": [
    "\n",
    "df_testi = []\n",
    "dfTesth3 = test_i\n",
    "for mehcs in mehcountries:\n",
    "    df_testi.append(dfTesth3[dfTesth3['Country'] == mehcs])\n",
    " \n",
    "df_testi = pd.concat(df_testi)\n",
    " \n",
    "df_testi\n"
   ]
  },
  {
   "cell_type": "markdown",
   "id": "8ca5b7f3",
   "metadata": {},
   "source": [
    "## Reset the indexes for both"
   ]
  },
  {
   "cell_type": "code",
   "execution_count": 714,
   "id": "1ffa5d15",
   "metadata": {
    "scrolled": true
   },
   "outputs": [],
   "source": [
    "df_testi.reset_index(drop=True, inplace=True)"
   ]
  },
  {
   "cell_type": "code",
   "execution_count": 715,
   "id": "78e70fd3",
   "metadata": {},
   "outputs": [],
   "source": [
    "df_testh.reset_index(drop=True, inplace=True)"
   ]
  },
  {
   "cell_type": "code",
   "execution_count": 716,
   "id": "f02fa761",
   "metadata": {
    "scrolled": false
   },
   "outputs": [
    {
     "data": {
      "text/plain": [
       "0      True\n",
       "1      True\n",
       "2      True\n",
       "3      True\n",
       "4      True\n",
       "       ... \n",
       "116    True\n",
       "117    True\n",
       "118    True\n",
       "119    True\n",
       "120    True\n",
       "Name: Country, Length: 121, dtype: bool"
      ]
     },
     "execution_count": 716,
     "metadata": {},
     "output_type": "execute_result"
    }
   ],
   "source": [
    "df_testi['Country'].sort_values() == df_testh['Country'].sort_values()"
   ]
  },
  {
   "cell_type": "code",
   "execution_count": 717,
   "id": "a2d14e7c",
   "metadata": {
    "scrolled": true
   },
   "outputs": [
    {
     "data": {
      "text/plain": [
       "Country                  object\n",
       "Broadband Speed Rank    float64\n",
       "Broadband Mbps          float64\n",
       "Mobile Speed Rank       float64\n",
       "Mobile Mbps             float64\n",
       "As of                    object\n",
       "dtype: object"
      ]
     },
     "execution_count": 717,
     "metadata": {},
     "output_type": "execute_result"
    }
   ],
   "source": [
    "df_testi.dtypes"
   ]
  },
  {
   "cell_type": "code",
   "execution_count": 718,
   "id": "b8fee4ac",
   "metadata": {
    "scrolled": false
   },
   "outputs": [
    {
     "data": {
      "text/plain": [
       "RANK                                            int64\n",
       "Country                                        object\n",
       "Happiness score                               float64\n",
       "Whisker-high                                  float64\n",
       "Whisker-low                                   float64\n",
       "Dystopia (1.83) + residual                    float64\n",
       "Explained by: GDP per capita                  float64\n",
       "Explained by: Social support                  float64\n",
       "Explained by: Healthy life expectancy         float64\n",
       "Explained by: Freedom to make life choices    float64\n",
       "Explained by: Generosity                      float64\n",
       "Explained by: Perceptions of corruption       float64\n",
       "dtype: object"
      ]
     },
     "execution_count": 718,
     "metadata": {},
     "output_type": "execute_result"
    }
   ],
   "source": [
    "df_testh.dtypes"
   ]
  },
  {
   "cell_type": "code",
   "execution_count": 719,
   "id": "c082ac86",
   "metadata": {
    "scrolled": false
   },
   "outputs": [
    {
     "data": {
      "text/html": [
       "<div>\n",
       "<style scoped>\n",
       "    .dataframe tbody tr th:only-of-type {\n",
       "        vertical-align: middle;\n",
       "    }\n",
       "\n",
       "    .dataframe tbody tr th {\n",
       "        vertical-align: top;\n",
       "    }\n",
       "\n",
       "    .dataframe thead th {\n",
       "        text-align: right;\n",
       "    }\n",
       "</style>\n",
       "<table border=\"1\" class=\"dataframe\">\n",
       "  <thead>\n",
       "    <tr style=\"text-align: right;\">\n",
       "      <th></th>\n",
       "      <th>RANK</th>\n",
       "      <th>Country</th>\n",
       "      <th>Happiness score</th>\n",
       "      <th>Whisker-high</th>\n",
       "      <th>Whisker-low</th>\n",
       "      <th>Dystopia (1.83) + residual</th>\n",
       "      <th>Explained by: GDP per capita</th>\n",
       "      <th>Explained by: Social support</th>\n",
       "      <th>Explained by: Healthy life expectancy</th>\n",
       "      <th>Explained by: Freedom to make life choices</th>\n",
       "      <th>Explained by: Generosity</th>\n",
       "      <th>Explained by: Perceptions of corruption</th>\n",
       "    </tr>\n",
       "  </thead>\n",
       "  <tbody>\n",
       "    <tr>\n",
       "      <th>0</th>\n",
       "      <td>146</td>\n",
       "      <td>Afghanistan</td>\n",
       "      <td>2.404</td>\n",
       "      <td>2.469</td>\n",
       "      <td>2.339</td>\n",
       "      <td>1.263</td>\n",
       "      <td>0.758</td>\n",
       "      <td>0.000</td>\n",
       "      <td>0.289</td>\n",
       "      <td>0.000</td>\n",
       "      <td>0.089</td>\n",
       "      <td>0.005</td>\n",
       "    </tr>\n",
       "    <tr>\n",
       "      <th>1</th>\n",
       "      <td>90</td>\n",
       "      <td>Albania</td>\n",
       "      <td>5.199</td>\n",
       "      <td>5.321</td>\n",
       "      <td>5.076</td>\n",
       "      <td>1.718</td>\n",
       "      <td>1.439</td>\n",
       "      <td>0.646</td>\n",
       "      <td>0.719</td>\n",
       "      <td>0.511</td>\n",
       "      <td>0.138</td>\n",
       "      <td>0.028</td>\n",
       "    </tr>\n",
       "    <tr>\n",
       "      <th>2</th>\n",
       "      <td>96</td>\n",
       "      <td>Algeria</td>\n",
       "      <td>5.122</td>\n",
       "      <td>5.215</td>\n",
       "      <td>5.030</td>\n",
       "      <td>1.744</td>\n",
       "      <td>1.363</td>\n",
       "      <td>0.970</td>\n",
       "      <td>0.643</td>\n",
       "      <td>0.146</td>\n",
       "      <td>0.106</td>\n",
       "      <td>0.150</td>\n",
       "    </tr>\n",
       "    <tr>\n",
       "      <th>3</th>\n",
       "      <td>57</td>\n",
       "      <td>Argentina</td>\n",
       "      <td>5.967</td>\n",
       "      <td>6.090</td>\n",
       "      <td>5.844</td>\n",
       "      <td>1.891</td>\n",
       "      <td>1.592</td>\n",
       "      <td>1.102</td>\n",
       "      <td>0.662</td>\n",
       "      <td>0.555</td>\n",
       "      <td>0.081</td>\n",
       "      <td>0.085</td>\n",
       "    </tr>\n",
       "    <tr>\n",
       "      <th>4</th>\n",
       "      <td>82</td>\n",
       "      <td>Armenia</td>\n",
       "      <td>5.399</td>\n",
       "      <td>5.519</td>\n",
       "      <td>5.278</td>\n",
       "      <td>1.654</td>\n",
       "      <td>1.434</td>\n",
       "      <td>0.820</td>\n",
       "      <td>0.668</td>\n",
       "      <td>0.558</td>\n",
       "      <td>0.054</td>\n",
       "      <td>0.210</td>\n",
       "    </tr>\n",
       "    <tr>\n",
       "      <th>...</th>\n",
       "      <td>...</td>\n",
       "      <td>...</td>\n",
       "      <td>...</td>\n",
       "      <td>...</td>\n",
       "      <td>...</td>\n",
       "      <td>...</td>\n",
       "      <td>...</td>\n",
       "      <td>...</td>\n",
       "      <td>...</td>\n",
       "      <td>...</td>\n",
       "      <td>...</td>\n",
       "      <td>...</td>\n",
       "    </tr>\n",
       "    <tr>\n",
       "      <th>116</th>\n",
       "      <td>108</td>\n",
       "      <td>Venezuela</td>\n",
       "      <td>4.925</td>\n",
       "      <td>5.051</td>\n",
       "      <td>4.800</td>\n",
       "      <td>2.790</td>\n",
       "      <td>0.000</td>\n",
       "      <td>0.968</td>\n",
       "      <td>0.578</td>\n",
       "      <td>0.283</td>\n",
       "      <td>0.225</td>\n",
       "      <td>0.082</td>\n",
       "    </tr>\n",
       "    <tr>\n",
       "      <th>117</th>\n",
       "      <td>77</td>\n",
       "      <td>Vietnam</td>\n",
       "      <td>5.485</td>\n",
       "      <td>5.570</td>\n",
       "      <td>5.400</td>\n",
       "      <td>1.735</td>\n",
       "      <td>1.252</td>\n",
       "      <td>0.932</td>\n",
       "      <td>0.611</td>\n",
       "      <td>0.707</td>\n",
       "      <td>0.143</td>\n",
       "      <td>0.105</td>\n",
       "    </tr>\n",
       "    <tr>\n",
       "      <th>118</th>\n",
       "      <td>132</td>\n",
       "      <td>Yemen</td>\n",
       "      <td>4.197</td>\n",
       "      <td>4.384</td>\n",
       "      <td>4.010</td>\n",
       "      <td>1.561</td>\n",
       "      <td>0.691</td>\n",
       "      <td>1.043</td>\n",
       "      <td>0.384</td>\n",
       "      <td>0.330</td>\n",
       "      <td>0.090</td>\n",
       "      <td>0.098</td>\n",
       "    </tr>\n",
       "    <tr>\n",
       "      <th>119</th>\n",
       "      <td>137</td>\n",
       "      <td>Zambia</td>\n",
       "      <td>3.760</td>\n",
       "      <td>3.902</td>\n",
       "      <td>3.618</td>\n",
       "      <td>1.135</td>\n",
       "      <td>0.930</td>\n",
       "      <td>0.577</td>\n",
       "      <td>0.306</td>\n",
       "      <td>0.525</td>\n",
       "      <td>0.203</td>\n",
       "      <td>0.083</td>\n",
       "    </tr>\n",
       "    <tr>\n",
       "      <th>120</th>\n",
       "      <td>144</td>\n",
       "      <td>Zimbabwe</td>\n",
       "      <td>2.995</td>\n",
       "      <td>3.110</td>\n",
       "      <td>2.880</td>\n",
       "      <td>0.548</td>\n",
       "      <td>0.947</td>\n",
       "      <td>0.690</td>\n",
       "      <td>0.270</td>\n",
       "      <td>0.329</td>\n",
       "      <td>0.106</td>\n",
       "      <td>0.105</td>\n",
       "    </tr>\n",
       "  </tbody>\n",
       "</table>\n",
       "<p>121 rows × 12 columns</p>\n",
       "</div>"
      ],
      "text/plain": [
       "     RANK      Country  Happiness score  Whisker-high  Whisker-low  Dystopia (1.83) + residual  Explained by: GDP per capita  Explained by: Social support  Explained by: Healthy life expectancy  Explained by: Freedom to make life choices  Explained by: Generosity  Explained by: Perceptions of corruption\n",
       "0     146  Afghanistan            2.404         2.469        2.339                       1.263                         0.758                         0.000                                  0.289                                       0.000                     0.089                                    0.005\n",
       "1      90      Albania            5.199         5.321        5.076                       1.718                         1.439                         0.646                                  0.719                                       0.511                     0.138                                    0.028\n",
       "2      96      Algeria            5.122         5.215        5.030                       1.744                         1.363                         0.970                                  0.643                                       0.146                     0.106                                    0.150\n",
       "3      57    Argentina            5.967         6.090        5.844                       1.891                         1.592                         1.102                                  0.662                                       0.555                     0.081                                    0.085\n",
       "4      82      Armenia            5.399         5.519        5.278                       1.654                         1.434                         0.820                                  0.668                                       0.558                     0.054                                    0.210\n",
       "..    ...          ...              ...           ...          ...                         ...                           ...                           ...                                    ...                                         ...                       ...                                      ...\n",
       "116   108    Venezuela            4.925         5.051        4.800                       2.790                         0.000                         0.968                                  0.578                                       0.283                     0.225                                    0.082\n",
       "117    77      Vietnam            5.485         5.570        5.400                       1.735                         1.252                         0.932                                  0.611                                       0.707                     0.143                                    0.105\n",
       "118   132        Yemen            4.197         4.384        4.010                       1.561                         0.691                         1.043                                  0.384                                       0.330                     0.090                                    0.098\n",
       "119   137       Zambia            3.760         3.902        3.618                       1.135                         0.930                         0.577                                  0.306                                       0.525                     0.203                                    0.083\n",
       "120   144     Zimbabwe            2.995         3.110        2.880                       0.548                         0.947                         0.690                                  0.270                                       0.329                     0.106                                    0.105\n",
       "\n",
       "[121 rows x 12 columns]"
      ]
     },
     "execution_count": 719,
     "metadata": {},
     "output_type": "execute_result"
    }
   ],
   "source": [
    "df_testh"
   ]
  },
  {
   "cell_type": "markdown",
   "id": "bfff6266",
   "metadata": {},
   "source": [
    "# EDA - internet speeds"
   ]
  },
  {
   "cell_type": "code",
   "execution_count": 720,
   "id": "39b07ee2",
   "metadata": {
    "scrolled": true
   },
   "outputs": [
    {
     "data": {
      "image/png": "[encoded data removed]",
      "text/plain": [
       "<Figure size 540x252 with 1 Axes>"
      ]
     },
     "metadata": {
      "needs_background": "light"
     },
     "output_type": "display_data"
    }
   ],
   "source": [
    "plt.rcParams[\"figure.figsize\"] = [7.50, 3.50]\n",
    "plt.rcParams[\"figure.autolayout\"] = True\n",
    "df_bp = pd.DataFrame({\"broadband speed\": df_testi['Broadband Mbps'], \"mobile speed\":df_testi['Mobile Mbps'] })\n",
    "df_bp[['broadband speed', \"mobile speed\"]].plot(kind='box', title='Global Broadband Speed vs. Mobile Speed')\n",
    "\n",
    "plt.show()"
   ]
  },
  {
   "cell_type": "code",
   "execution_count": 721,
   "id": "3285b699",
   "metadata": {
    "scrolled": false
   },
   "outputs": [
    {
     "data": {
      "image/png": "[encoded data removed]",
      "text/plain": [
       "<Figure size 540x252 with 4 Axes>"
      ]
     },
     "metadata": {
      "needs_background": "light"
     },
     "output_type": "display_data"
    }
   ],
   "source": [
    "pd.plotting.scatter_matrix(df_bp, )\n",
    "plt.suptitle(\"Matrix of Broadband amd Mobile Mbps correlation\")\n",
    "plt.show()"
   ]
  },
  {
   "cell_type": "code",
   "execution_count": 722,
   "id": "0f38eb10",
   "metadata": {},
   "outputs": [
    {
     "data": {
      "image/png": "[encoded data removed]",
      "text/plain": [
       "<Figure size 1296x576 with 1 Axes>"
      ]
     },
     "metadata": {
      "needs_background": "light"
     },
     "output_type": "display_data"
    }
   ],
   "source": [
    "#plot mobile and broadband rank on one graph \n",
    "Xy = df_testi.sort_values(by='Broadband Mbps')\n",
    "\n",
    "xCountries = Xy['Country']\n",
    "yBBRank = Xy['Broadband Mbps']\n",
    "yMRank = Xy['Mobile Mbps']\n",
    "\n",
    "fig = plt.figure(figsize = (18, 8))\n",
    "\n",
    "plt.bar(xCountries, yBBRank, label='Broadband speed')\n",
    "plt.bar(xCountries, yMRank, alpha=.5, label='Mobile speed' )\n",
    "plt.xticks(rotation=90)\n",
    "plt.xlabel(\"Country\")\n",
    "plt.ylabel(\"Speeds\")\n",
    "plt.title(\"Broadband speeds vs. Mobile speeds\")\n",
    "plt.legend()\n",
    "plt.show()"
   ]
  },
  {
   "cell_type": "markdown",
   "id": "643327c8",
   "metadata": {},
   "source": [
    "# EDA - Happiness index"
   ]
  },
  {
   "cell_type": "code",
   "execution_count": 723,
   "id": "7cd46be0",
   "metadata": {},
   "outputs": [
    {
     "data": {
      "image/png": "[encoded data removed]",
      "text/plain": [
       "<Figure size 540x252 with 1 Axes>"
      ]
     },
     "metadata": {
      "needs_background": "light"
     },
     "output_type": "display_data"
    }
   ],
   "source": [
    "df_testh[['Happiness score']].plot(kind='box', title='Happiness scores globally')\n",
    "plt.show()"
   ]
  },
  {
   "cell_type": "code",
   "execution_count": 724,
   "id": "a9cb9b43",
   "metadata": {},
   "outputs": [
    {
     "data": {
      "text/html": [
       "<div>\n",
       "<style scoped>\n",
       "    .dataframe tbody tr th:only-of-type {\n",
       "        vertical-align: middle;\n",
       "    }\n",
       "\n",
       "    .dataframe tbody tr th {\n",
       "        vertical-align: top;\n",
       "    }\n",
       "\n",
       "    .dataframe thead th {\n",
       "        text-align: right;\n",
       "    }\n",
       "</style>\n",
       "<table border=\"1\" class=\"dataframe\">\n",
       "  <thead>\n",
       "    <tr style=\"text-align: right;\">\n",
       "      <th></th>\n",
       "      <th>RANK</th>\n",
       "      <th>Country</th>\n",
       "      <th>Happiness score</th>\n",
       "      <th>Whisker-high</th>\n",
       "      <th>Whisker-low</th>\n",
       "      <th>Dystopia (1.83) + residual</th>\n",
       "      <th>Explained by: GDP per capita</th>\n",
       "      <th>Explained by: Social support</th>\n",
       "      <th>Explained by: Healthy life expectancy</th>\n",
       "      <th>Explained by: Freedom to make life choices</th>\n",
       "      <th>Explained by: Generosity</th>\n",
       "      <th>Explained by: Perceptions of corruption</th>\n",
       "    </tr>\n",
       "  </thead>\n",
       "  <tbody>\n",
       "    <tr>\n",
       "      <th>0</th>\n",
       "      <td>146</td>\n",
       "      <td>Afghanistan</td>\n",
       "      <td>2.404</td>\n",
       "      <td>2.469</td>\n",
       "      <td>2.339</td>\n",
       "      <td>1.263</td>\n",
       "      <td>0.758</td>\n",
       "      <td>0.000</td>\n",
       "      <td>0.289</td>\n",
       "      <td>0.000</td>\n",
       "      <td>0.089</td>\n",
       "      <td>0.005</td>\n",
       "    </tr>\n",
       "    <tr>\n",
       "      <th>1</th>\n",
       "      <td>90</td>\n",
       "      <td>Albania</td>\n",
       "      <td>5.199</td>\n",
       "      <td>5.321</td>\n",
       "      <td>5.076</td>\n",
       "      <td>1.718</td>\n",
       "      <td>1.439</td>\n",
       "      <td>0.646</td>\n",
       "      <td>0.719</td>\n",
       "      <td>0.511</td>\n",
       "      <td>0.138</td>\n",
       "      <td>0.028</td>\n",
       "    </tr>\n",
       "    <tr>\n",
       "      <th>2</th>\n",
       "      <td>96</td>\n",
       "      <td>Algeria</td>\n",
       "      <td>5.122</td>\n",
       "      <td>5.215</td>\n",
       "      <td>5.030</td>\n",
       "      <td>1.744</td>\n",
       "      <td>1.363</td>\n",
       "      <td>0.970</td>\n",
       "      <td>0.643</td>\n",
       "      <td>0.146</td>\n",
       "      <td>0.106</td>\n",
       "      <td>0.150</td>\n",
       "    </tr>\n",
       "    <tr>\n",
       "      <th>3</th>\n",
       "      <td>57</td>\n",
       "      <td>Argentina</td>\n",
       "      <td>5.967</td>\n",
       "      <td>6.090</td>\n",
       "      <td>5.844</td>\n",
       "      <td>1.891</td>\n",
       "      <td>1.592</td>\n",
       "      <td>1.102</td>\n",
       "      <td>0.662</td>\n",
       "      <td>0.555</td>\n",
       "      <td>0.081</td>\n",
       "      <td>0.085</td>\n",
       "    </tr>\n",
       "    <tr>\n",
       "      <th>4</th>\n",
       "      <td>82</td>\n",
       "      <td>Armenia</td>\n",
       "      <td>5.399</td>\n",
       "      <td>5.519</td>\n",
       "      <td>5.278</td>\n",
       "      <td>1.654</td>\n",
       "      <td>1.434</td>\n",
       "      <td>0.820</td>\n",
       "      <td>0.668</td>\n",
       "      <td>0.558</td>\n",
       "      <td>0.054</td>\n",
       "      <td>0.210</td>\n",
       "    </tr>\n",
       "  </tbody>\n",
       "</table>\n",
       "</div>"
      ],
      "text/plain": [
       "   RANK      Country  Happiness score  Whisker-high  Whisker-low  Dystopia (1.83) + residual  Explained by: GDP per capita  Explained by: Social support  Explained by: Healthy life expectancy  Explained by: Freedom to make life choices  Explained by: Generosity  Explained by: Perceptions of corruption\n",
       "0   146  Afghanistan            2.404         2.469        2.339                       1.263                         0.758                         0.000                                  0.289                                       0.000                     0.089                                    0.005\n",
       "1    90      Albania            5.199         5.321        5.076                       1.718                         1.439                         0.646                                  0.719                                       0.511                     0.138                                    0.028\n",
       "2    96      Algeria            5.122         5.215        5.030                       1.744                         1.363                         0.970                                  0.643                                       0.146                     0.106                                    0.150\n",
       "3    57    Argentina            5.967         6.090        5.844                       1.891                         1.592                         1.102                                  0.662                                       0.555                     0.081                                    0.085\n",
       "4    82      Armenia            5.399         5.519        5.278                       1.654                         1.434                         0.820                                  0.668                                       0.558                     0.054                                    0.210"
      ]
     },
     "execution_count": 724,
     "metadata": {},
     "output_type": "execute_result"
    }
   ],
   "source": [
    "df_testh.head()"
   ]
  },
  {
   "cell_type": "code",
   "execution_count": 725,
   "id": "0438e71e",
   "metadata": {
    "scrolled": false
   },
   "outputs": [
    {
     "data": {
      "image/png": "[encoded data removed]",
      "text/plain": [
       "<Figure size 1296x576 with 1 Axes>"
      ]
     },
     "metadata": {
      "needs_background": "light"
     },
     "output_type": "display_data"
    }
   ],
   "source": [
    "\n",
    "xy = df_testh.sort_values(by='Happiness score')\n",
    "\n",
    "fig = plt.figure(figsize = (18, 8))\n",
    "plt.title(\"Global happiness scores\")\n",
    "plt.axhline(y=1.83, color='r', linestyle='-')\n",
    "plt.bar(xy['Country'],xy['Happiness score'])\n",
    "plt.xticks(rotation=90)\n",
    "plt.show()"
   ]
  },
  {
   "cell_type": "code",
   "execution_count": 726,
   "id": "7ce9f919",
   "metadata": {},
   "outputs": [
    {
     "data": {
      "text/plain": [
       "5.7228925619834685"
      ]
     },
     "execution_count": 726,
     "metadata": {},
     "output_type": "execute_result"
    }
   ],
   "source": [
    "df_testh['Happiness score'].mean()"
   ]
  },
  {
   "cell_type": "markdown",
   "id": "cef67763",
   "metadata": {},
   "source": [
    "## stacked chart for the explained by columns"
   ]
  },
  {
   "cell_type": "code",
   "execution_count": 727,
   "id": "8b630139",
   "metadata": {
    "scrolled": true
   },
   "outputs": [
    {
     "data": {
      "image/png": "[encoded data removed]",
      "text/plain": [
       "<Figure size 3600x2160 with 1 Axes>"
      ]
     },
     "metadata": {
      "needs_background": "light"
     },
     "output_type": "display_data"
    }
   ],
   "source": [
    "#stacked df.plot for explaind bys\n",
    "df_explainedby = pd.DataFrame(df_testh.filter(like='Explained by:'))\n",
    "df_explainedby['Country'] = df_testh['Country']\n",
    "df_explainedby.plot(x='Country', kind='bar', stacked=True,\n",
    "        title='Explained bys stacked chart', figsize=[50, 30], legend=False)\n",
    "\n",
    "plt.show()\n",
    "#gdp\n",
    "#socialo support\n",
    "#life expectancy\n",
    "#freedom to make choices\n",
    "#generoisty\n",
    "#corruption\n"
   ]
  },
  {
   "cell_type": "code",
   "execution_count": 728,
   "id": "8a518b7e",
   "metadata": {
    "scrolled": true
   },
   "outputs": [
    {
     "data": {
      "image/png": "[encoded data removed]",
      "text/plain": [
       "<Figure size 720x1080 with 1 Axes>"
      ]
     },
     "metadata": {
      "needs_background": "light"
     },
     "output_type": "display_data"
    }
   ],
   "source": [
    "\n",
    "\n",
    "xcountries = df_testh['Country']\n",
    "\n",
    "ylow = df_testh['Whisker-low']\n",
    "yhigh = df_testh['Whisker-high']\n",
    "\n",
    "fig = plt.figure(figsize = (10, 15))\n",
    "plt.title(\"Whisker low/high per country\")\n",
    "plt.barh(xcountries, ylow, label='Whisker low')\n",
    "plt.barh(xcountries, yhigh, label='Whisker high',alpha=.5)\n",
    "plt.legend()\n",
    "plt.show()"
   ]
  },
  {
   "cell_type": "code",
   "execution_count": 729,
   "id": "c54039a9",
   "metadata": {
    "scrolled": false
   },
   "outputs": [
    {
     "data": {
      "image/png": "[encoded data removed]",
      "text/plain": [
       "<Figure size 1080x1080 with 36 Axes>"
      ]
     },
     "metadata": {
      "needs_background": "light"
     },
     "output_type": "display_data"
    }
   ],
   "source": [
    "pd.plotting.scatter_matrix(df_explainedby, figsize=[15,15])\n",
    "plt.show()"
   ]
  },
  {
   "cell_type": "markdown",
   "id": "d46c45bf",
   "metadata": {},
   "source": [
    "# confidence interval for all happiness scores\n"
   ]
  },
  {
   "cell_type": "code",
   "execution_count": 730,
   "id": "ec1b7966",
   "metadata": {},
   "outputs": [
    {
     "data": {
      "text/plain": [
       "5.7228925619834685"
      ]
     },
     "execution_count": 730,
     "metadata": {},
     "output_type": "execute_result"
    }
   ],
   "source": [
    "df_testh['Happiness score'].mean()"
   ]
  },
  {
   "cell_type": "markdown",
   "id": "42fed4cb",
   "metadata": {},
   "source": [
    "the given whisker-low/high intervals"
   ]
  },
  {
   "cell_type": "code",
   "execution_count": 731,
   "id": "62bb64cc",
   "metadata": {
    "scrolled": true
   },
   "outputs": [
    {
     "name": "stdout",
     "output_type": "stream",
     "text": [
      "5.614198347107438 5.831603305785124\n"
     ]
    }
   ],
   "source": [
    "\n",
    "print(df_testh['Whisker-low'].mean(), df_testh['Whisker-high'].mean())"
   ]
  },
  {
   "cell_type": "markdown",
   "id": "4ec63199",
   "metadata": {},
   "source": [
    "calculating confidence levels with a 95% significance"
   ]
  },
  {
   "cell_type": "code",
   "execution_count": 732,
   "id": "661badc1",
   "metadata": {},
   "outputs": [
    {
     "data": {
      "text/plain": [
       "(5.537033360851201, 5.9087517631157365)"
      ]
     },
     "execution_count": 732,
     "metadata": {},
     "output_type": "execute_result"
    }
   ],
   "source": [
    "ci = st.norm.interval(alpha=.95, loc=df_testh['Happiness score'].mean(), scale=st.sem(df_testh['Happiness score']))\n",
    "ci"
   ]
  },
  {
   "cell_type": "markdown",
   "id": "a6e3a83e",
   "metadata": {},
   "source": [
    "## z-test for the difference in whisker score and the confidence intervals"
   ]
  },
  {
   "cell_type": "markdown",
   "id": "a0849456",
   "metadata": {},
   "source": [
    "h0 : xbar = u0\n",
    "h1 : xbar \\= u0\n",
    "\n",
    "Reject h0 if p < 0.05"
   ]
  },
  {
   "cell_type": "code",
   "execution_count": 733,
   "id": "989db922",
   "metadata": {
    "scrolled": true
   },
   "outputs": [
    {
     "data": {
      "text/plain": [
       "0      2.339\n",
       "1      5.076\n",
       "2      5.030\n",
       "3      5.844\n",
       "4      5.278\n",
       "       ...  \n",
       "116    5.051\n",
       "117    5.570\n",
       "118    4.384\n",
       "119    3.902\n",
       "120    3.110\n",
       "Length: 242, dtype: float64"
      ]
     },
     "execution_count": 733,
     "metadata": {},
     "output_type": "execute_result"
    }
   ],
   "source": [
    "\n",
    "sdseries = pd.concat([df_testh['Whisker-low'], df_testh['Whisker-high']], axis=0)\n",
    "sdseries"
   ]
  },
  {
   "cell_type": "markdown",
   "id": "de743291",
   "metadata": {},
   "source": [
    "### z-test function"
   ]
  },
  {
   "cell_type": "code",
   "execution_count": 734,
   "id": "738cd9fd",
   "metadata": {},
   "outputs": [],
   "source": [
    "def z_test(xbar, sigma, mu, n, tail=2):\n",
    "    zobs = (xbar - mu)/(sigma/np.sqrt(n))\n",
    "    pvalue = tail*st.norm.sf(np.abs(zobs))\n",
    "    return zobs, pvalue"
   ]
  },
  {
   "cell_type": "code",
   "execution_count": 735,
   "id": "72e559ab",
   "metadata": {},
   "outputs": [
    {
     "data": {
      "text/plain": [
       "0.9999305794706278"
      ]
     },
     "execution_count": 735,
     "metadata": {},
     "output_type": "execute_result"
    }
   ],
   "source": [
    "xbar = np.mean(ci)\n",
    "mu0 = np.mean([df_testh['Whisker-low'].mean(), df_testh['Whisker-high'].mean()])\n",
    "sigma = np.std(sdseries)\n",
    "n=len(df_testh['Whisker-low'])\n",
    "zobs, p = z_test(xbar, sigma, mu0, n)\n",
    "p"
   ]
  },
  {
   "cell_type": "code",
   "execution_count": 736,
   "id": "60fdd430",
   "metadata": {},
   "outputs": [
    {
     "data": {
      "text/plain": [
       "False"
      ]
     },
     "execution_count": 736,
     "metadata": {},
     "output_type": "execute_result"
    }
   ],
   "source": [
    "p < 0.05"
   ]
  },
  {
   "cell_type": "markdown",
   "id": "bd551231",
   "metadata": {},
   "source": [
    "not enough evidence to reject h0"
   ]
  },
  {
   "cell_type": "markdown",
   "id": "a6307b47",
   "metadata": {},
   "source": [
    "## t test for explained by columns corruption and generosity"
   ]
  },
  {
   "cell_type": "markdown",
   "id": "704e0a4d",
   "metadata": {},
   "source": [
    "Levene test to check equal variance"
   ]
  },
  {
   "cell_type": "code",
   "execution_count": 737,
   "id": "dd39a8f3",
   "metadata": {},
   "outputs": [
    {
     "data": {
      "text/plain": [
       "LeveneResult(statistic=9.354369335060333, pvalue=0.0024768255543945452)"
      ]
     },
     "execution_count": 737,
     "metadata": {},
     "output_type": "execute_result"
    }
   ],
   "source": [
    "st.levene(df_testh['Explained by: Generosity'], df_testh['Explained by: Perceptions of corruption'])"
   ]
  },
  {
   "cell_type": "markdown",
   "id": "7742fd70",
   "metadata": {},
   "source": [
    "low p-value suggests unequal variance"
   ]
  },
  {
   "cell_type": "markdown",
   "id": "1a8e437a",
   "metadata": {},
   "source": [
    "two tailed t test with independent samples and unequal variance \n",
    "\n",
    "h0 : u1 = u0\n",
    "\n",
    "h1 : u1 \\= u0\n",
    "\n",
    "Reject h0 if t observed is greater than the critical t value at a 95% significance level"
   ]
  },
  {
   "cell_type": "code",
   "execution_count": 738,
   "id": "b164de76",
   "metadata": {},
   "outputs": [],
   "source": [
    "tstat, p = st.ttest_ind(df_testh['Explained by: Generosity'], df_testh['Explained by: Perceptions of corruption'], equal_var=False, alternative='two-sided')"
   ]
  },
  {
   "cell_type": "code",
   "execution_count": 739,
   "id": "cf731b59",
   "metadata": {},
   "outputs": [],
   "source": [
    "tcrit = st.t.ppf(.975, df=120)"
   ]
  },
  {
   "cell_type": "code",
   "execution_count": 740,
   "id": "7f691d84",
   "metadata": {
    "scrolled": true
   },
   "outputs": [
    {
     "data": {
      "text/plain": [
       "1.9799304050527766"
      ]
     },
     "execution_count": 740,
     "metadata": {},
     "output_type": "execute_result"
    }
   ],
   "source": [
    "tcrit"
   ]
  },
  {
   "cell_type": "code",
   "execution_count": 741,
   "id": "93fea673",
   "metadata": {},
   "outputs": [
    {
     "data": {
      "text/plain": [
       "False"
      ]
     },
     "execution_count": 741,
     "metadata": {},
     "output_type": "execute_result"
    }
   ],
   "source": [
    "tstat > tcrit"
   ]
  },
  {
   "cell_type": "markdown",
   "id": "e2f4b719",
   "metadata": {},
   "source": [
    "Not enough evidence to reject h0"
   ]
  },
  {
   "cell_type": "markdown",
   "id": "48086b74",
   "metadata": {},
   "source": [
    "# t test comparing broadband and mobile speeds"
   ]
  },
  {
   "cell_type": "markdown",
   "id": "0bfdbac0",
   "metadata": {},
   "source": [
    "unequal variance"
   ]
  },
  {
   "cell_type": "code",
   "execution_count": 742,
   "id": "3d21947a",
   "metadata": {},
   "outputs": [
    {
     "data": {
      "text/plain": [
       "LeveneResult(statistic=17.53179664440382, pvalue=3.969291719179147e-05)"
      ]
     },
     "execution_count": 742,
     "metadata": {},
     "output_type": "execute_result"
    }
   ],
   "source": [
    "st.levene(df_testi['Mobile Mbps'], df_testi['Broadband Mbps'])\n"
   ]
  },
  {
   "cell_type": "markdown",
   "id": "5c876ef8",
   "metadata": {},
   "source": [
    "Broadband and Mobile Mbps difference in means \n",
    "\n",
    "h0 : u1 = u0 \n",
    "\n",
    "h1 u1 < u0 \n",
    "\n",
    "reject h0 if the p value is less than the significance level value"
   ]
  },
  {
   "cell_type": "code",
   "execution_count": 743,
   "id": "75e98a69",
   "metadata": {},
   "outputs": [],
   "source": [
    "\n",
    "tobs, pvalue = st.ttest_ind(df_testi['Mobile Mbps'], df_testi['Broadband Mbps'], equal_var=False, alternative='less')"
   ]
  },
  {
   "cell_type": "code",
   "execution_count": 744,
   "id": "9e40c7d1",
   "metadata": {},
   "outputs": [
    {
     "data": {
      "text/plain": [
       "True"
      ]
     },
     "execution_count": 744,
     "metadata": {},
     "output_type": "execute_result"
    }
   ],
   "source": [
    "pvalue <0.05"
   ]
  },
  {
   "cell_type": "markdown",
   "id": "f5ca674e",
   "metadata": {},
   "source": [
    "Reject h0"
   ]
  },
  {
   "cell_type": "markdown",
   "id": "a3c204d8",
   "metadata": {},
   "source": [
    "# correlation testing and regression"
   ]
  },
  {
   "cell_type": "markdown",
   "id": "bb2b541b",
   "metadata": {},
   "source": [
    "## happiness score and broadband speed"
   ]
  },
  {
   "cell_type": "markdown",
   "id": "eca96205",
   "metadata": {},
   "source": [
    "sort both by country"
   ]
  },
  {
   "cell_type": "code",
   "execution_count": 745,
   "id": "aaff4bfb",
   "metadata": {},
   "outputs": [
    {
     "data": {
      "text/html": [
       "<div>\n",
       "<style scoped>\n",
       "    .dataframe tbody tr th:only-of-type {\n",
       "        vertical-align: middle;\n",
       "    }\n",
       "\n",
       "    .dataframe tbody tr th {\n",
       "        vertical-align: top;\n",
       "    }\n",
       "\n",
       "    .dataframe thead th {\n",
       "        text-align: right;\n",
       "    }\n",
       "</style>\n",
       "<table border=\"1\" class=\"dataframe\">\n",
       "  <thead>\n",
       "    <tr style=\"text-align: right;\">\n",
       "      <th></th>\n",
       "      <th>Country</th>\n",
       "      <th>Broadband Speed Rank</th>\n",
       "      <th>Broadband Mbps</th>\n",
       "      <th>Mobile Speed Rank</th>\n",
       "      <th>Mobile Mbps</th>\n",
       "      <th>As of</th>\n",
       "    </tr>\n",
       "  </thead>\n",
       "  <tbody>\n",
       "    <tr>\n",
       "      <th>0</th>\n",
       "      <td>Afghanistan</td>\n",
       "      <td>179.0</td>\n",
       "      <td>1.62</td>\n",
       "      <td>138.0</td>\n",
       "      <td>5.10</td>\n",
       "      <td>January 2022</td>\n",
       "    </tr>\n",
       "    <tr>\n",
       "      <th>1</th>\n",
       "      <td>Albania</td>\n",
       "      <td>91.0</td>\n",
       "      <td>33.50</td>\n",
       "      <td>48.0</td>\n",
       "      <td>35.62</td>\n",
       "      <td>January 2022</td>\n",
       "    </tr>\n",
       "    <tr>\n",
       "      <th>2</th>\n",
       "      <td>Algeria</td>\n",
       "      <td>144.0</td>\n",
       "      <td>9.72</td>\n",
       "      <td>125.0</td>\n",
       "      <td>11.31</td>\n",
       "      <td>January 2022</td>\n",
       "    </tr>\n",
       "    <tr>\n",
       "      <th>3</th>\n",
       "      <td>Argentina</td>\n",
       "      <td>82.0</td>\n",
       "      <td>38.47</td>\n",
       "      <td>84.0</td>\n",
       "      <td>20.07</td>\n",
       "      <td>January 2022</td>\n",
       "    </tr>\n",
       "    <tr>\n",
       "      <th>4</th>\n",
       "      <td>Armenia</td>\n",
       "      <td>88.0</td>\n",
       "      <td>34.26</td>\n",
       "      <td>69.0</td>\n",
       "      <td>26.23</td>\n",
       "      <td>January 2022</td>\n",
       "    </tr>\n",
       "    <tr>\n",
       "      <th>...</th>\n",
       "      <td>...</td>\n",
       "      <td>...</td>\n",
       "      <td>...</td>\n",
       "      <td>...</td>\n",
       "      <td>...</td>\n",
       "      <td>...</td>\n",
       "    </tr>\n",
       "    <tr>\n",
       "      <th>116</th>\n",
       "      <td>Venezuela</td>\n",
       "      <td>161.0</td>\n",
       "      <td>7.15</td>\n",
       "      <td>136.0</td>\n",
       "      <td>5.99</td>\n",
       "      <td>January 2022</td>\n",
       "    </tr>\n",
       "    <tr>\n",
       "      <th>117</th>\n",
       "      <td>Vietnam</td>\n",
       "      <td>47.0</td>\n",
       "      <td>67.50</td>\n",
       "      <td>45.0</td>\n",
       "      <td>39.01</td>\n",
       "      <td>January 2022</td>\n",
       "    </tr>\n",
       "    <tr>\n",
       "      <th>118</th>\n",
       "      <td>Yemen</td>\n",
       "      <td>175.0</td>\n",
       "      <td>2.74</td>\n",
       "      <td>140.0</td>\n",
       "      <td>0.53</td>\n",
       "      <td>January 2022</td>\n",
       "    </tr>\n",
       "    <tr>\n",
       "      <th>119</th>\n",
       "      <td>Zambia</td>\n",
       "      <td>170.0</td>\n",
       "      <td>4.60</td>\n",
       "      <td>121.0</td>\n",
       "      <td>12.46</td>\n",
       "      <td>January 2022</td>\n",
       "    </tr>\n",
       "    <tr>\n",
       "      <th>120</th>\n",
       "      <td>Zimbabwe</td>\n",
       "      <td>167.0</td>\n",
       "      <td>5.21</td>\n",
       "      <td>123.0</td>\n",
       "      <td>12.02</td>\n",
       "      <td>January 2022</td>\n",
       "    </tr>\n",
       "  </tbody>\n",
       "</table>\n",
       "<p>121 rows × 6 columns</p>\n",
       "</div>"
      ],
      "text/plain": [
       "         Country  Broadband Speed Rank  Broadband Mbps  Mobile Speed Rank  Mobile Mbps         As of\n",
       "0    Afghanistan                 179.0            1.62              138.0         5.10  January 2022\n",
       "1        Albania                  91.0           33.50               48.0        35.62  January 2022\n",
       "2        Algeria                 144.0            9.72              125.0        11.31  January 2022\n",
       "3      Argentina                  82.0           38.47               84.0        20.07  January 2022\n",
       "4        Armenia                  88.0           34.26               69.0        26.23  January 2022\n",
       "..           ...                   ...             ...                ...          ...           ...\n",
       "116    Venezuela                 161.0            7.15              136.0         5.99  January 2022\n",
       "117      Vietnam                  47.0           67.50               45.0        39.01  January 2022\n",
       "118        Yemen                 175.0            2.74              140.0         0.53  January 2022\n",
       "119       Zambia                 170.0            4.60              121.0        12.46  January 2022\n",
       "120     Zimbabwe                 167.0            5.21              123.0        12.02  January 2022\n",
       "\n",
       "[121 rows x 6 columns]"
      ]
     },
     "execution_count": 745,
     "metadata": {},
     "output_type": "execute_result"
    }
   ],
   "source": [
    "dfibyCountry = df_testi.sort_values(by=['Country'])[:]\n",
    "dfibyCountry"
   ]
  },
  {
   "cell_type": "code",
   "execution_count": 746,
   "id": "45455859",
   "metadata": {
    "scrolled": false
   },
   "outputs": [
    {
     "data": {
      "text/html": [
       "<div>\n",
       "<style scoped>\n",
       "    .dataframe tbody tr th:only-of-type {\n",
       "        vertical-align: middle;\n",
       "    }\n",
       "\n",
       "    .dataframe tbody tr th {\n",
       "        vertical-align: top;\n",
       "    }\n",
       "\n",
       "    .dataframe thead th {\n",
       "        text-align: right;\n",
       "    }\n",
       "</style>\n",
       "<table border=\"1\" class=\"dataframe\">\n",
       "  <thead>\n",
       "    <tr style=\"text-align: right;\">\n",
       "      <th></th>\n",
       "      <th>RANK</th>\n",
       "      <th>Country</th>\n",
       "      <th>Happiness score</th>\n",
       "      <th>Whisker-high</th>\n",
       "      <th>Whisker-low</th>\n",
       "      <th>Dystopia (1.83) + residual</th>\n",
       "      <th>Explained by: GDP per capita</th>\n",
       "      <th>Explained by: Social support</th>\n",
       "      <th>Explained by: Healthy life expectancy</th>\n",
       "      <th>Explained by: Freedom to make life choices</th>\n",
       "      <th>Explained by: Generosity</th>\n",
       "      <th>Explained by: Perceptions of corruption</th>\n",
       "    </tr>\n",
       "  </thead>\n",
       "  <tbody>\n",
       "    <tr>\n",
       "      <th>0</th>\n",
       "      <td>146</td>\n",
       "      <td>Afghanistan</td>\n",
       "      <td>2.404</td>\n",
       "      <td>2.469</td>\n",
       "      <td>2.339</td>\n",
       "      <td>1.263</td>\n",
       "      <td>0.758</td>\n",
       "      <td>0.000</td>\n",
       "      <td>0.289</td>\n",
       "      <td>0.000</td>\n",
       "      <td>0.089</td>\n",
       "      <td>0.005</td>\n",
       "    </tr>\n",
       "    <tr>\n",
       "      <th>1</th>\n",
       "      <td>90</td>\n",
       "      <td>Albania</td>\n",
       "      <td>5.199</td>\n",
       "      <td>5.321</td>\n",
       "      <td>5.076</td>\n",
       "      <td>1.718</td>\n",
       "      <td>1.439</td>\n",
       "      <td>0.646</td>\n",
       "      <td>0.719</td>\n",
       "      <td>0.511</td>\n",
       "      <td>0.138</td>\n",
       "      <td>0.028</td>\n",
       "    </tr>\n",
       "    <tr>\n",
       "      <th>2</th>\n",
       "      <td>96</td>\n",
       "      <td>Algeria</td>\n",
       "      <td>5.122</td>\n",
       "      <td>5.215</td>\n",
       "      <td>5.030</td>\n",
       "      <td>1.744</td>\n",
       "      <td>1.363</td>\n",
       "      <td>0.970</td>\n",
       "      <td>0.643</td>\n",
       "      <td>0.146</td>\n",
       "      <td>0.106</td>\n",
       "      <td>0.150</td>\n",
       "    </tr>\n",
       "    <tr>\n",
       "      <th>3</th>\n",
       "      <td>57</td>\n",
       "      <td>Argentina</td>\n",
       "      <td>5.967</td>\n",
       "      <td>6.090</td>\n",
       "      <td>5.844</td>\n",
       "      <td>1.891</td>\n",
       "      <td>1.592</td>\n",
       "      <td>1.102</td>\n",
       "      <td>0.662</td>\n",
       "      <td>0.555</td>\n",
       "      <td>0.081</td>\n",
       "      <td>0.085</td>\n",
       "    </tr>\n",
       "    <tr>\n",
       "      <th>4</th>\n",
       "      <td>82</td>\n",
       "      <td>Armenia</td>\n",
       "      <td>5.399</td>\n",
       "      <td>5.519</td>\n",
       "      <td>5.278</td>\n",
       "      <td>1.654</td>\n",
       "      <td>1.434</td>\n",
       "      <td>0.820</td>\n",
       "      <td>0.668</td>\n",
       "      <td>0.558</td>\n",
       "      <td>0.054</td>\n",
       "      <td>0.210</td>\n",
       "    </tr>\n",
       "    <tr>\n",
       "      <th>...</th>\n",
       "      <td>...</td>\n",
       "      <td>...</td>\n",
       "      <td>...</td>\n",
       "      <td>...</td>\n",
       "      <td>...</td>\n",
       "      <td>...</td>\n",
       "      <td>...</td>\n",
       "      <td>...</td>\n",
       "      <td>...</td>\n",
       "      <td>...</td>\n",
       "      <td>...</td>\n",
       "      <td>...</td>\n",
       "    </tr>\n",
       "    <tr>\n",
       "      <th>116</th>\n",
       "      <td>108</td>\n",
       "      <td>Venezuela</td>\n",
       "      <td>4.925</td>\n",
       "      <td>5.051</td>\n",
       "      <td>4.800</td>\n",
       "      <td>2.790</td>\n",
       "      <td>0.000</td>\n",
       "      <td>0.968</td>\n",
       "      <td>0.578</td>\n",
       "      <td>0.283</td>\n",
       "      <td>0.225</td>\n",
       "      <td>0.082</td>\n",
       "    </tr>\n",
       "    <tr>\n",
       "      <th>117</th>\n",
       "      <td>77</td>\n",
       "      <td>Vietnam</td>\n",
       "      <td>5.485</td>\n",
       "      <td>5.570</td>\n",
       "      <td>5.400</td>\n",
       "      <td>1.735</td>\n",
       "      <td>1.252</td>\n",
       "      <td>0.932</td>\n",
       "      <td>0.611</td>\n",
       "      <td>0.707</td>\n",
       "      <td>0.143</td>\n",
       "      <td>0.105</td>\n",
       "    </tr>\n",
       "    <tr>\n",
       "      <th>118</th>\n",
       "      <td>132</td>\n",
       "      <td>Yemen</td>\n",
       "      <td>4.197</td>\n",
       "      <td>4.384</td>\n",
       "      <td>4.010</td>\n",
       "      <td>1.561</td>\n",
       "      <td>0.691</td>\n",
       "      <td>1.043</td>\n",
       "      <td>0.384</td>\n",
       "      <td>0.330</td>\n",
       "      <td>0.090</td>\n",
       "      <td>0.098</td>\n",
       "    </tr>\n",
       "    <tr>\n",
       "      <th>119</th>\n",
       "      <td>137</td>\n",
       "      <td>Zambia</td>\n",
       "      <td>3.760</td>\n",
       "      <td>3.902</td>\n",
       "      <td>3.618</td>\n",
       "      <td>1.135</td>\n",
       "      <td>0.930</td>\n",
       "      <td>0.577</td>\n",
       "      <td>0.306</td>\n",
       "      <td>0.525</td>\n",
       "      <td>0.203</td>\n",
       "      <td>0.083</td>\n",
       "    </tr>\n",
       "    <tr>\n",
       "      <th>120</th>\n",
       "      <td>144</td>\n",
       "      <td>Zimbabwe</td>\n",
       "      <td>2.995</td>\n",
       "      <td>3.110</td>\n",
       "      <td>2.880</td>\n",
       "      <td>0.548</td>\n",
       "      <td>0.947</td>\n",
       "      <td>0.690</td>\n",
       "      <td>0.270</td>\n",
       "      <td>0.329</td>\n",
       "      <td>0.106</td>\n",
       "      <td>0.105</td>\n",
       "    </tr>\n",
       "  </tbody>\n",
       "</table>\n",
       "<p>121 rows × 12 columns</p>\n",
       "</div>"
      ],
      "text/plain": [
       "     RANK      Country  Happiness score  Whisker-high  Whisker-low  Dystopia (1.83) + residual  Explained by: GDP per capita  Explained by: Social support  Explained by: Healthy life expectancy  Explained by: Freedom to make life choices  Explained by: Generosity  Explained by: Perceptions of corruption\n",
       "0     146  Afghanistan            2.404         2.469        2.339                       1.263                         0.758                         0.000                                  0.289                                       0.000                     0.089                                    0.005\n",
       "1      90      Albania            5.199         5.321        5.076                       1.718                         1.439                         0.646                                  0.719                                       0.511                     0.138                                    0.028\n",
       "2      96      Algeria            5.122         5.215        5.030                       1.744                         1.363                         0.970                                  0.643                                       0.146                     0.106                                    0.150\n",
       "3      57    Argentina            5.967         6.090        5.844                       1.891                         1.592                         1.102                                  0.662                                       0.555                     0.081                                    0.085\n",
       "4      82      Armenia            5.399         5.519        5.278                       1.654                         1.434                         0.820                                  0.668                                       0.558                     0.054                                    0.210\n",
       "..    ...          ...              ...           ...          ...                         ...                           ...                           ...                                    ...                                         ...                       ...                                      ...\n",
       "116   108    Venezuela            4.925         5.051        4.800                       2.790                         0.000                         0.968                                  0.578                                       0.283                     0.225                                    0.082\n",
       "117    77      Vietnam            5.485         5.570        5.400                       1.735                         1.252                         0.932                                  0.611                                       0.707                     0.143                                    0.105\n",
       "118   132        Yemen            4.197         4.384        4.010                       1.561                         0.691                         1.043                                  0.384                                       0.330                     0.090                                    0.098\n",
       "119   137       Zambia            3.760         3.902        3.618                       1.135                         0.930                         0.577                                  0.306                                       0.525                     0.203                                    0.083\n",
       "120   144     Zimbabwe            2.995         3.110        2.880                       0.548                         0.947                         0.690                                  0.270                                       0.329                     0.106                                    0.105\n",
       "\n",
       "[121 rows x 12 columns]"
      ]
     },
     "execution_count": 746,
     "metadata": {},
     "output_type": "execute_result"
    }
   ],
   "source": [
    "dfhbyCountry = df_testh.sort_values(by=['Country'])[:]\n",
    "dfhbyCountry"
   ]
  },
  {
   "cell_type": "markdown",
   "id": "5a7582f2",
   "metadata": {},
   "source": [
    "calculate the covariance and the correlation coefficient"
   ]
  },
  {
   "cell_type": "code",
   "execution_count": 747,
   "id": "52244f3a",
   "metadata": {},
   "outputs": [
    {
     "data": {
      "text/plain": [
       "array([[1.83794504e+03, 2.82283325e+01],\n",
       "       [2.82283325e+01, 1.08807121e+00]])"
      ]
     },
     "execution_count": 747,
     "metadata": {},
     "output_type": "execute_result"
    }
   ],
   "source": [
    "np.cov(dfibyCountry['Broadband Mbps'], dfhbyCountry['Happiness score'])"
   ]
  },
  {
   "cell_type": "code",
   "execution_count": 748,
   "id": "1b376d19",
   "metadata": {
    "scrolled": false
   },
   "outputs": [
    {
     "data": {
      "text/plain": [
       "array([[1.        , 0.63123389],\n",
       "       [0.63123389, 1.        ]])"
      ]
     },
     "execution_count": 748,
     "metadata": {},
     "output_type": "execute_result"
    }
   ],
   "source": [
    "np.corrcoef(dfibyCountry['Broadband Mbps'], dfhbyCountry['Happiness score'])"
   ]
  },
  {
   "cell_type": "code",
   "execution_count": 749,
   "id": "0d089b13",
   "metadata": {},
   "outputs": [
    {
     "data": {
      "text/plain": [
       "Text(0, 0.5, 'Happiness Score')"
      ]
     },
     "execution_count": 749,
     "metadata": {},
     "output_type": "execute_result"
    },
    {
     "data": {
      "image/png": "[encoded data removed]",
      "text/plain": [
       "<Figure size 540x252 with 1 Axes>"
      ]
     },
     "metadata": {
      "needs_background": "light"
     },
     "output_type": "display_data"
    }
   ],
   "source": [
    "plt.scatter(dfibyCountry['Broadband Mbps'], dfhbyCountry['Happiness score'])\n",
    "plt.title(\"Global correlation between broadband speed and happiness score\")\n",
    "plt.xlabel(\"Broadband speed\")\n",
    "plt.ylabel(\"Happiness Score\")"
   ]
  },
  {
   "cell_type": "markdown",
   "id": "b3c466e0",
   "metadata": {},
   "source": [
    "### Build the regression model"
   ]
  },
  {
   "cell_type": "code",
   "execution_count": 750,
   "id": "f28521b6",
   "metadata": {},
   "outputs": [],
   "source": [
    "from sklearn.linear_model import LinearRegression\n",
    "model = LinearRegression()"
   ]
  },
  {
   "cell_type": "code",
   "execution_count": 751,
   "id": "351d0e83",
   "metadata": {},
   "outputs": [
    {
     "data": {
      "text/plain": [
       "LinearRegression()"
      ]
     },
     "execution_count": 751,
     "metadata": {},
     "output_type": "execute_result"
    }
   ],
   "source": [
    "model.fit(dfibyCountry['Broadband Mbps'].values.reshape(-1,1), dfhbyCountry['Happiness score'])"
   ]
  },
  {
   "cell_type": "code",
   "execution_count": 752,
   "id": "3e1cf0ce",
   "metadata": {},
   "outputs": [
    {
     "data": {
      "text/plain": [
       "0.3984562184884295"
      ]
     },
     "execution_count": 752,
     "metadata": {},
     "output_type": "execute_result"
    }
   ],
   "source": [
    "model.score(dfibyCountry['Broadband Mbps'].values.reshape(-1,1), dfhbyCountry['Happiness score'])\n",
    "#r^2"
   ]
  },
  {
   "cell_type": "markdown",
   "id": "e6b18e45",
   "metadata": {},
   "source": [
    "40% of variance explained by the model"
   ]
  },
  {
   "cell_type": "code",
   "execution_count": 753,
   "id": "546bf743",
   "metadata": {},
   "outputs": [
    {
     "data": {
      "text/plain": [
       "4.901567181223675"
      ]
     },
     "execution_count": 753,
     "metadata": {},
     "output_type": "execute_result"
    }
   ],
   "source": [
    "\n",
    "model.intercept_"
   ]
  },
  {
   "cell_type": "code",
   "execution_count": 754,
   "id": "19ccfefc",
   "metadata": {},
   "outputs": [
    {
     "data": {
      "text/plain": [
       "array([0.01535864])"
      ]
     },
     "execution_count": 754,
     "metadata": {},
     "output_type": "execute_result"
    }
   ],
   "source": [
    "model.coef_"
   ]
  },
  {
   "cell_type": "markdown",
   "id": "83ceb54d",
   "metadata": {},
   "source": [
    "## Plot the regression line"
   ]
  },
  {
   "cell_type": "code",
   "execution_count": 755,
   "id": "72526253",
   "metadata": {
    "scrolled": false
   },
   "outputs": [
    {
     "data": {
      "image/png": "[encoded data removed]",
      "text/plain": [
       "<Figure size 540x252 with 1 Axes>"
      ]
     },
     "metadata": {
      "needs_background": "light"
     },
     "output_type": "display_data"
    }
   ],
   "source": [
    "from statsmodels.graphics.regressionplots import abline_plot\n",
    "\n",
    "plt.scatter(dfibyCountry['Broadband Mbps'], dfhbyCountry['Happiness score'])\n",
    "\n",
    "b, m = model.intercept_, model.coef_[0]\n",
    "\n",
    "plt.axline(xy1=(0,b), slope=m, color='r')\n",
    "plt.title(\"Global correlation between broadband speed and happiness score with a line of best fit\")\n",
    "plt.xlabel(\"Broadband speed\")\n",
    "plt.ylabel(\"Happiness Score\")\n",
    "plt.show()"
   ]
  },
  {
   "cell_type": "code",
   "execution_count": 756,
   "id": "a33cadfa",
   "metadata": {
    "scrolled": true
   },
   "outputs": [
    {
     "data": {
      "text/html": [
       "<div>\n",
       "<style scoped>\n",
       "    .dataframe tbody tr th:only-of-type {\n",
       "        vertical-align: middle;\n",
       "    }\n",
       "\n",
       "    .dataframe tbody tr th {\n",
       "        vertical-align: top;\n",
       "    }\n",
       "\n",
       "    .dataframe thead th {\n",
       "        text-align: right;\n",
       "    }\n",
       "</style>\n",
       "<table border=\"1\" class=\"dataframe\">\n",
       "  <thead>\n",
       "    <tr style=\"text-align: right;\">\n",
       "      <th></th>\n",
       "      <th>Country</th>\n",
       "      <th>Broadband Speed Rank</th>\n",
       "      <th>Broadband Mbps</th>\n",
       "      <th>Mobile Speed Rank</th>\n",
       "      <th>Mobile Mbps</th>\n",
       "      <th>As of</th>\n",
       "    </tr>\n",
       "  </thead>\n",
       "  <tbody>\n",
       "    <tr>\n",
       "      <th>0</th>\n",
       "      <td>Afghanistan</td>\n",
       "      <td>179.0</td>\n",
       "      <td>1.62</td>\n",
       "      <td>138.0</td>\n",
       "      <td>5.10</td>\n",
       "      <td>January 2022</td>\n",
       "    </tr>\n",
       "    <tr>\n",
       "      <th>1</th>\n",
       "      <td>Albania</td>\n",
       "      <td>91.0</td>\n",
       "      <td>33.50</td>\n",
       "      <td>48.0</td>\n",
       "      <td>35.62</td>\n",
       "      <td>January 2022</td>\n",
       "    </tr>\n",
       "    <tr>\n",
       "      <th>2</th>\n",
       "      <td>Algeria</td>\n",
       "      <td>144.0</td>\n",
       "      <td>9.72</td>\n",
       "      <td>125.0</td>\n",
       "      <td>11.31</td>\n",
       "      <td>January 2022</td>\n",
       "    </tr>\n",
       "    <tr>\n",
       "      <th>3</th>\n",
       "      <td>Argentina</td>\n",
       "      <td>82.0</td>\n",
       "      <td>38.47</td>\n",
       "      <td>84.0</td>\n",
       "      <td>20.07</td>\n",
       "      <td>January 2022</td>\n",
       "    </tr>\n",
       "    <tr>\n",
       "      <th>4</th>\n",
       "      <td>Armenia</td>\n",
       "      <td>88.0</td>\n",
       "      <td>34.26</td>\n",
       "      <td>69.0</td>\n",
       "      <td>26.23</td>\n",
       "      <td>January 2022</td>\n",
       "    </tr>\n",
       "  </tbody>\n",
       "</table>\n",
       "</div>"
      ],
      "text/plain": [
       "       Country  Broadband Speed Rank  Broadband Mbps  Mobile Speed Rank  Mobile Mbps         As of\n",
       "0  Afghanistan                 179.0            1.62              138.0         5.10  January 2022\n",
       "1      Albania                  91.0           33.50               48.0        35.62  January 2022\n",
       "2      Algeria                 144.0            9.72              125.0        11.31  January 2022\n",
       "3    Argentina                  82.0           38.47               84.0        20.07  January 2022\n",
       "4      Armenia                  88.0           34.26               69.0        26.23  January 2022"
      ]
     },
     "execution_count": 756,
     "metadata": {},
     "output_type": "execute_result"
    }
   ],
   "source": [
    "dfibyCountry.head()"
   ]
  },
  {
   "cell_type": "code",
   "execution_count": 757,
   "id": "4fa78d13",
   "metadata": {},
   "outputs": [
    {
     "data": {
      "text/html": [
       "<div>\n",
       "<style scoped>\n",
       "    .dataframe tbody tr th:only-of-type {\n",
       "        vertical-align: middle;\n",
       "    }\n",
       "\n",
       "    .dataframe tbody tr th {\n",
       "        vertical-align: top;\n",
       "    }\n",
       "\n",
       "    .dataframe thead th {\n",
       "        text-align: right;\n",
       "    }\n",
       "</style>\n",
       "<table border=\"1\" class=\"dataframe\">\n",
       "  <thead>\n",
       "    <tr style=\"text-align: right;\">\n",
       "      <th></th>\n",
       "      <th>RANK</th>\n",
       "      <th>Country</th>\n",
       "      <th>Happiness score</th>\n",
       "      <th>Whisker-high</th>\n",
       "      <th>Whisker-low</th>\n",
       "      <th>Dystopia (1.83) + residual</th>\n",
       "      <th>Explained by: GDP per capita</th>\n",
       "      <th>Explained by: Social support</th>\n",
       "      <th>Explained by: Healthy life expectancy</th>\n",
       "      <th>Explained by: Freedom to make life choices</th>\n",
       "      <th>Explained by: Generosity</th>\n",
       "      <th>Explained by: Perceptions of corruption</th>\n",
       "    </tr>\n",
       "  </thead>\n",
       "  <tbody>\n",
       "    <tr>\n",
       "      <th>0</th>\n",
       "      <td>146</td>\n",
       "      <td>Afghanistan</td>\n",
       "      <td>2.404</td>\n",
       "      <td>2.469</td>\n",
       "      <td>2.339</td>\n",
       "      <td>1.263</td>\n",
       "      <td>0.758</td>\n",
       "      <td>0.000</td>\n",
       "      <td>0.289</td>\n",
       "      <td>0.000</td>\n",
       "      <td>0.089</td>\n",
       "      <td>0.005</td>\n",
       "    </tr>\n",
       "    <tr>\n",
       "      <th>1</th>\n",
       "      <td>90</td>\n",
       "      <td>Albania</td>\n",
       "      <td>5.199</td>\n",
       "      <td>5.321</td>\n",
       "      <td>5.076</td>\n",
       "      <td>1.718</td>\n",
       "      <td>1.439</td>\n",
       "      <td>0.646</td>\n",
       "      <td>0.719</td>\n",
       "      <td>0.511</td>\n",
       "      <td>0.138</td>\n",
       "      <td>0.028</td>\n",
       "    </tr>\n",
       "    <tr>\n",
       "      <th>2</th>\n",
       "      <td>96</td>\n",
       "      <td>Algeria</td>\n",
       "      <td>5.122</td>\n",
       "      <td>5.215</td>\n",
       "      <td>5.030</td>\n",
       "      <td>1.744</td>\n",
       "      <td>1.363</td>\n",
       "      <td>0.970</td>\n",
       "      <td>0.643</td>\n",
       "      <td>0.146</td>\n",
       "      <td>0.106</td>\n",
       "      <td>0.150</td>\n",
       "    </tr>\n",
       "    <tr>\n",
       "      <th>3</th>\n",
       "      <td>57</td>\n",
       "      <td>Argentina</td>\n",
       "      <td>5.967</td>\n",
       "      <td>6.090</td>\n",
       "      <td>5.844</td>\n",
       "      <td>1.891</td>\n",
       "      <td>1.592</td>\n",
       "      <td>1.102</td>\n",
       "      <td>0.662</td>\n",
       "      <td>0.555</td>\n",
       "      <td>0.081</td>\n",
       "      <td>0.085</td>\n",
       "    </tr>\n",
       "    <tr>\n",
       "      <th>4</th>\n",
       "      <td>82</td>\n",
       "      <td>Armenia</td>\n",
       "      <td>5.399</td>\n",
       "      <td>5.519</td>\n",
       "      <td>5.278</td>\n",
       "      <td>1.654</td>\n",
       "      <td>1.434</td>\n",
       "      <td>0.820</td>\n",
       "      <td>0.668</td>\n",
       "      <td>0.558</td>\n",
       "      <td>0.054</td>\n",
       "      <td>0.210</td>\n",
       "    </tr>\n",
       "  </tbody>\n",
       "</table>\n",
       "</div>"
      ],
      "text/plain": [
       "   RANK      Country  Happiness score  Whisker-high  Whisker-low  Dystopia (1.83) + residual  Explained by: GDP per capita  Explained by: Social support  Explained by: Healthy life expectancy  Explained by: Freedom to make life choices  Explained by: Generosity  Explained by: Perceptions of corruption\n",
       "0   146  Afghanistan            2.404         2.469        2.339                       1.263                         0.758                         0.000                                  0.289                                       0.000                     0.089                                    0.005\n",
       "1    90      Albania            5.199         5.321        5.076                       1.718                         1.439                         0.646                                  0.719                                       0.511                     0.138                                    0.028\n",
       "2    96      Algeria            5.122         5.215        5.030                       1.744                         1.363                         0.970                                  0.643                                       0.146                     0.106                                    0.150\n",
       "3    57    Argentina            5.967         6.090        5.844                       1.891                         1.592                         1.102                                  0.662                                       0.555                     0.081                                    0.085\n",
       "4    82      Armenia            5.399         5.519        5.278                       1.654                         1.434                         0.820                                  0.668                                       0.558                     0.054                                    0.210"
      ]
     },
     "execution_count": 757,
     "metadata": {},
     "output_type": "execute_result"
    }
   ],
   "source": [
    "dfhbyCountry.head()"
   ]
  },
  {
   "cell_type": "code",
   "execution_count": 758,
   "id": "bc5f16ce",
   "metadata": {},
   "outputs": [],
   "source": [
    "predictions = model.predict(np.array([1.62, 33.5, 9.72]).reshape(-1,1))"
   ]
  },
  {
   "cell_type": "code",
   "execution_count": 759,
   "id": "53b17336",
   "metadata": {
    "scrolled": true
   },
   "outputs": [
    {
     "data": {
      "text/plain": [
       "array([1402.53762655,    4.90242726])"
      ]
     },
     "execution_count": 759,
     "metadata": {},
     "output_type": "execute_result"
    }
   ],
   "source": [
    "model.predict(np.array([91000, 0.056]).reshape(-1,1))"
   ]
  },
  {
   "cell_type": "markdown",
   "id": "988d3917",
   "metadata": {},
   "source": [
    "nasa internet speed and the first internet speed yield the happiness scores\n",
    "1402.53762655 and 4.90242726 respectively"
   ]
  },
  {
   "cell_type": "markdown",
   "id": "6d497d51",
   "metadata": {},
   "source": [
    "graph prediction results"
   ]
  },
  {
   "cell_type": "code",
   "execution_count": 760,
   "id": "e39b679a",
   "metadata": {},
   "outputs": [
    {
     "data": {
      "text/html": [
       "<div>\n",
       "<style scoped>\n",
       "    .dataframe tbody tr th:only-of-type {\n",
       "        vertical-align: middle;\n",
       "    }\n",
       "\n",
       "    .dataframe tbody tr th {\n",
       "        vertical-align: top;\n",
       "    }\n",
       "\n",
       "    .dataframe thead th {\n",
       "        text-align: right;\n",
       "    }\n",
       "</style>\n",
       "<table border=\"1\" class=\"dataframe\">\n",
       "  <thead>\n",
       "    <tr style=\"text-align: right;\">\n",
       "      <th></th>\n",
       "      <th>Country</th>\n",
       "      <th>Broadband Mbps (input)</th>\n",
       "      <th>Happiness Score</th>\n",
       "      <th>Predicted Happiness Score</th>\n",
       "    </tr>\n",
       "  </thead>\n",
       "  <tbody>\n",
       "    <tr>\n",
       "      <th>0</th>\n",
       "      <td>Afghanistan</td>\n",
       "      <td>1.62</td>\n",
       "      <td>2.404</td>\n",
       "      <td>4.926448</td>\n",
       "    </tr>\n",
       "    <tr>\n",
       "      <th>1</th>\n",
       "      <td>Albania</td>\n",
       "      <td>33.50</td>\n",
       "      <td>5.199</td>\n",
       "      <td>5.416082</td>\n",
       "    </tr>\n",
       "    <tr>\n",
       "      <th>2</th>\n",
       "      <td>Algeria</td>\n",
       "      <td>9.72</td>\n",
       "      <td>5.122</td>\n",
       "      <td>5.050853</td>\n",
       "    </tr>\n",
       "  </tbody>\n",
       "</table>\n",
       "</div>"
      ],
      "text/plain": [
       "       Country  Broadband Mbps (input)  Happiness Score  Predicted Happiness Score\n",
       "0  Afghanistan                    1.62            2.404                   4.926448\n",
       "1      Albania                   33.50            5.199                   5.416082\n",
       "2      Algeria                    9.72            5.122                   5.050853"
      ]
     },
     "execution_count": 760,
     "metadata": {},
     "output_type": "execute_result"
    }
   ],
   "source": [
    "df_predictionresults = pd.DataFrame({'Country' : dfibyCountry['Country'].head(3),\n",
    "                                     'Broadband Mbps (input)' : dfibyCountry['Broadband Mbps'].head(3),\n",
    "                                    'Happiness Score' : dfhbyCountry['Happiness score'].head(3),\n",
    "                                    \n",
    "                                    'Predicted Happiness Score' :  predictions})\n",
    "df_predictionresults"
   ]
  },
  {
   "cell_type": "markdown",
   "id": "afbe7ce6",
   "metadata": {},
   "source": [
    "## broadband speed and mobile speed"
   ]
  },
  {
   "cell_type": "code",
   "execution_count": 761,
   "id": "f7c930b3",
   "metadata": {},
   "outputs": [
    {
     "data": {
      "text/plain": [
       "array([[1837.9450381 ,  659.01254844],\n",
       "       [ 659.01254844,  708.38819309]])"
      ]
     },
     "execution_count": 761,
     "metadata": {},
     "output_type": "execute_result"
    }
   ],
   "source": [
    "np.cov(dfibyCountry['Broadband Mbps'],dfibyCountry['Mobile Mbps'])"
   ]
  },
  {
   "cell_type": "code",
   "execution_count": 762,
   "id": "cd57875a",
   "metadata": {
    "scrolled": true
   },
   "outputs": [
    {
     "data": {
      "text/plain": [
       "array([[1.       , 0.5775529],\n",
       "       [0.5775529, 1.       ]])"
      ]
     },
     "execution_count": 762,
     "metadata": {},
     "output_type": "execute_result"
    }
   ],
   "source": [
    "np.corrcoef(dfibyCountry['Broadband Mbps'],dfibyCountry['Mobile Mbps'])"
   ]
  },
  {
   "cell_type": "code",
   "execution_count": 763,
   "id": "21097aa0",
   "metadata": {
    "scrolled": true
   },
   "outputs": [
    {
     "data": {
      "image/png": "[encoded data removed]",
      "text/plain": [
       "<Figure size 540x252 with 1 Axes>"
      ]
     },
     "metadata": {
      "needs_background": "light"
     },
     "output_type": "display_data"
    }
   ],
   "source": [
    "plt.scatter(dfibyCountry['Broadband Mbps'], dfibyCountry['Mobile Mbps']) \n",
    "plt.show()"
   ]
  },
  {
   "cell_type": "code",
   "execution_count": 764,
   "id": "e7afe6d4",
   "metadata": {},
   "outputs": [
    {
     "data": {
      "text/plain": [
       "LinearRegression()"
      ]
     },
     "execution_count": 764,
     "metadata": {},
     "output_type": "execute_result"
    }
   ],
   "source": [
    "speedModel.fit(dfibyCountry['Broadband Mbps'].values.reshape(-1,1), dfibyCountry['Mobile Mbps'])"
   ]
  },
  {
   "cell_type": "code",
   "execution_count": 765,
   "id": "f170e171",
   "metadata": {},
   "outputs": [
    {
     "data": {
      "text/plain": [
       "0.3335673495999719"
      ]
     },
     "execution_count": 765,
     "metadata": {},
     "output_type": "execute_result"
    }
   ],
   "source": [
    "speedModel.score(dfibyCountry['Broadband Mbps'].values.reshape(-1,1), dfibyCountry['Mobile Mbps'])"
   ]
  },
  {
   "cell_type": "code",
   "execution_count": 766,
   "id": "64863a17",
   "metadata": {},
   "outputs": [
    {
     "data": {
      "text/plain": [
       "15.946011095478"
      ]
     },
     "execution_count": 766,
     "metadata": {},
     "output_type": "execute_result"
    }
   ],
   "source": [
    "speedModel.intercept_"
   ]
  },
  {
   "cell_type": "code",
   "execution_count": 767,
   "id": "2fde13b9",
   "metadata": {},
   "outputs": [
    {
     "data": {
      "text/plain": [
       "array([0.35855944])"
      ]
     },
     "execution_count": 767,
     "metadata": {},
     "output_type": "execute_result"
    }
   ],
   "source": [
    "speedModel.coef_"
   ]
  },
  {
   "cell_type": "code",
   "execution_count": 768,
   "id": "0043480c",
   "metadata": {},
   "outputs": [
    {
     "data": {
      "image/png": "[encoded data removed]",
      "text/plain": [
       "<Figure size 540x252 with 1 Axes>"
      ]
     },
     "metadata": {
      "needs_background": "light"
     },
     "output_type": "display_data"
    }
   ],
   "source": [
    "x1 = dfibyCountry['Broadband Mbps']\n",
    "y1 = dfibyCountry['Mobile Mbps']\n",
    "\n",
    "plt.scatter(x1,y1)\n",
    "b,m = speedModel.intercept_, speedModel.coef_[0]\n",
    "plt.axline(xy1=(0,b), slope=m)\n",
    "plt.show()\n"
   ]
  }
 ],
 "metadata": {
  "kernelspec": {
   "display_name": "Python 3 (ipykernel)",
   "language": "python",
   "name": "python3"
  },
  "language_info": {
   "codemirror_mode": {
    "name": "ipython",
    "version": 3
   },
   "file_extension": ".py",
   "mimetype": "text/x-python",
   "name": "python",
   "nbconvert_exporter": "python",
   "pygments_lexer": "ipython3",
   "version": "3.9.12"
  }
 },
 "nbformat": 4,
 "nbformat_minor": 5
}
